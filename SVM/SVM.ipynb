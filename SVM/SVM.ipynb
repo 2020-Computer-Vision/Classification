{
 "cells": [
  {
   "cell_type": "code",
   "execution_count": 22,
   "metadata": {},
   "outputs": [],
   "source": [
    "from sklearn import svm\n",
    "import numpy as np\n",
    "import pandas as pd\n",
    "import os\n",
    "import sys"
   ]
  },
  {
   "cell_type": "code",
   "execution_count": 24,
   "metadata": {},
   "outputs": [],
   "source": [
    "sys.path.append('../utilities/')\n",
    "from utils import *"
   ]
  },
  {
   "cell_type": "code",
   "execution_count": 78,
   "metadata": {},
   "outputs": [],
   "source": [
    "dat = pd.read_csv('../CSVData/04.13.2019 vs UVA 2.csv')"
   ]
  },
  {
   "cell_type": "code",
   "execution_count": 79,
   "metadata": {},
   "outputs": [
    {
     "data": {
      "text/plain": [
       "Index(['#', 'Name', 'ClipType', 'Media In', 'Media Out', 'Hit Location X',\n",
       "       'Hit Location Y', 'Hit Location', 'Hit Result', 'At Bat Pitch Count',\n",
       "       'Batter', 'Bunt', 'Count', 'Inning', 'Outs', 'Pitch Location X',\n",
       "       'Pitch Location Y', 'RBI', 'Total Pitch Count', 'Umpire', 'Strike Type',\n",
       "       'Pitcher', 'Home Score', 'Home Team', 'Hit Type', 'Batter Strength',\n",
       "       'Away Team', 'Ball Type', 'Base', 'Pitch Count', 'Pitch Type',\n",
       "       'Team in Field', 'Team at Bat', 'Visitor Score'],\n",
       "      dtype='object')"
      ]
     },
     "execution_count": 79,
     "metadata": {},
     "output_type": "execute_result"
    }
   ],
   "source": [
    "dat.columns"
   ]
  },
  {
   "cell_type": "code",
   "execution_count": 80,
   "metadata": {},
   "outputs": [],
   "source": [
    "testDat = subset(dat, ['Pitch Location X', 'Pitch Location Y', 'Strike Type', 'Ball Type', 'Umpire'])\n",
    "testDat['Result'] = np.nan"
   ]
  },
  {
   "cell_type": "code",
   "execution_count": 86,
   "metadata": {},
   "outputs": [
    {
     "name": "stderr",
     "output_type": "stream",
     "text": [
      "/home/nmaynard/.local/lib/python3.6/site-packages/ipykernel_launcher.py:5: SettingWithCopyWarning: \n",
      "A value is trying to be set on a copy of a slice from a DataFrame\n",
      "\n",
      "See the caveats in the documentation: http://pandas.pydata.org/pandas-docs/stable/user_guide/indexing.html#returning-a-view-versus-a-copy\n",
      "  \"\"\"\n",
      "/home/nmaynard/.local/lib/python3.6/site-packages/ipykernel_launcher.py:3: SettingWithCopyWarning: \n",
      "A value is trying to be set on a copy of a slice from a DataFrame\n",
      "\n",
      "See the caveats in the documentation: http://pandas.pydata.org/pandas-docs/stable/user_guide/indexing.html#returning-a-view-versus-a-copy\n",
      "  This is separate from the ipykernel package so we can avoid doing imports until\n"
     ]
    }
   ],
   "source": [
    "for idx, ball in enumerate(testDat['Ball Type']):\n",
    "    if(type(ball) == str):\n",
    "        testDat['Result'][idx] = ball\n",
    "    else:\n",
    "        testDat['Result'][idx] = testDat['Strike Type'][idx]"
   ]
  },
  {
   "cell_type": "code",
   "execution_count": 87,
   "metadata": {},
   "outputs": [
    {
     "data": {
      "text/html": [
       "<div>\n",
       "<style scoped>\n",
       "    .dataframe tbody tr th:only-of-type {\n",
       "        vertical-align: middle;\n",
       "    }\n",
       "\n",
       "    .dataframe tbody tr th {\n",
       "        vertical-align: top;\n",
       "    }\n",
       "\n",
       "    .dataframe thead th {\n",
       "        text-align: right;\n",
       "    }\n",
       "</style>\n",
       "<table border=\"1\" class=\"dataframe\">\n",
       "  <thead>\n",
       "    <tr style=\"text-align: right;\">\n",
       "      <th></th>\n",
       "      <th>Pitch Location X</th>\n",
       "      <th>Pitch Location Y</th>\n",
       "      <th>Strike Type</th>\n",
       "      <th>Ball Type</th>\n",
       "      <th>Umpire</th>\n",
       "      <th>Result</th>\n",
       "    </tr>\n",
       "  </thead>\n",
       "  <tbody>\n",
       "    <tr>\n",
       "      <th>0</th>\n",
       "      <td>51</td>\n",
       "      <td>97</td>\n",
       "      <td>Take</td>\n",
       "      <td>NaN</td>\n",
       "      <td>NaN</td>\n",
       "      <td>Take</td>\n",
       "    </tr>\n",
       "    <tr>\n",
       "      <th>1</th>\n",
       "      <td>46</td>\n",
       "      <td>76</td>\n",
       "      <td>Take</td>\n",
       "      <td>NaN</td>\n",
       "      <td>NaN</td>\n",
       "      <td>Take</td>\n",
       "    </tr>\n",
       "    <tr>\n",
       "      <th>2</th>\n",
       "      <td>35</td>\n",
       "      <td>127</td>\n",
       "      <td>NaN</td>\n",
       "      <td>Ball</td>\n",
       "      <td>NaN</td>\n",
       "      <td>Ball</td>\n",
       "    </tr>\n",
       "    <tr>\n",
       "      <th>3</th>\n",
       "      <td>102</td>\n",
       "      <td>75</td>\n",
       "      <td>Foul</td>\n",
       "      <td>NaN</td>\n",
       "      <td>NaN</td>\n",
       "      <td>Foul</td>\n",
       "    </tr>\n",
       "    <tr>\n",
       "      <th>4</th>\n",
       "      <td>65</td>\n",
       "      <td>200</td>\n",
       "      <td>Foul</td>\n",
       "      <td>NaN</td>\n",
       "      <td>NaN</td>\n",
       "      <td>Foul</td>\n",
       "    </tr>\n",
       "    <tr>\n",
       "      <th>...</th>\n",
       "      <td>...</td>\n",
       "      <td>...</td>\n",
       "      <td>...</td>\n",
       "      <td>...</td>\n",
       "      <td>...</td>\n",
       "      <td>...</td>\n",
       "    </tr>\n",
       "    <tr>\n",
       "      <th>217</th>\n",
       "      <td>171</td>\n",
       "      <td>169</td>\n",
       "      <td>Swing</td>\n",
       "      <td>NaN</td>\n",
       "      <td>NaN</td>\n",
       "      <td>Swing</td>\n",
       "    </tr>\n",
       "    <tr>\n",
       "      <th>218</th>\n",
       "      <td>210</td>\n",
       "      <td>91</td>\n",
       "      <td>NaN</td>\n",
       "      <td>Ball</td>\n",
       "      <td>NaN</td>\n",
       "      <td>Ball</td>\n",
       "    </tr>\n",
       "    <tr>\n",
       "      <th>219</th>\n",
       "      <td>65</td>\n",
       "      <td>165</td>\n",
       "      <td>Take</td>\n",
       "      <td>NaN</td>\n",
       "      <td>NaN</td>\n",
       "      <td>Take</td>\n",
       "    </tr>\n",
       "    <tr>\n",
       "      <th>220</th>\n",
       "      <td>208</td>\n",
       "      <td>55</td>\n",
       "      <td>NaN</td>\n",
       "      <td>Ball</td>\n",
       "      <td>NaN</td>\n",
       "      <td>Ball</td>\n",
       "    </tr>\n",
       "    <tr>\n",
       "      <th>221</th>\n",
       "      <td>144</td>\n",
       "      <td>86</td>\n",
       "      <td>Ball in Play</td>\n",
       "      <td>NaN</td>\n",
       "      <td>NaN</td>\n",
       "      <td>Ball in Play</td>\n",
       "    </tr>\n",
       "  </tbody>\n",
       "</table>\n",
       "<p>222 rows × 6 columns</p>\n",
       "</div>"
      ],
      "text/plain": [
       "     Pitch Location X  Pitch Location Y   Strike Type Ball Type  Umpire  \\\n",
       "0                  51                97          Take       NaN     NaN   \n",
       "1                  46                76          Take       NaN     NaN   \n",
       "2                  35               127           NaN      Ball     NaN   \n",
       "3                 102                75          Foul       NaN     NaN   \n",
       "4                  65               200          Foul       NaN     NaN   \n",
       "..                ...               ...           ...       ...     ...   \n",
       "217               171               169         Swing       NaN     NaN   \n",
       "218               210                91           NaN      Ball     NaN   \n",
       "219                65               165          Take       NaN     NaN   \n",
       "220               208                55           NaN      Ball     NaN   \n",
       "221               144                86  Ball in Play       NaN     NaN   \n",
       "\n",
       "           Result  \n",
       "0            Take  \n",
       "1            Take  \n",
       "2            Ball  \n",
       "3            Foul  \n",
       "4            Foul  \n",
       "..            ...  \n",
       "217         Swing  \n",
       "218          Ball  \n",
       "219          Take  \n",
       "220          Ball  \n",
       "221  Ball in Play  \n",
       "\n",
       "[222 rows x 6 columns]"
      ]
     },
     "execution_count": 87,
     "metadata": {},
     "output_type": "execute_result"
    }
   ],
   "source": [
    "testDat"
   ]
  },
  {
   "cell_type": "code",
   "execution_count": null,
   "metadata": {},
   "outputs": [],
   "source": []
  },
  {
   "cell_type": "code",
   "execution_count": null,
   "metadata": {},
   "outputs": [],
   "source": []
  }
 ],
 "metadata": {
  "kernelspec": {
   "display_name": "Python 3",
   "language": "python",
   "name": "python3"
  }
 },
 "nbformat": 4,
 "nbformat_minor": 2
}
