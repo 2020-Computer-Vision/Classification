{
 "cells": [
  {
   "cell_type": "code",
   "execution_count": 65,
   "metadata": {},
   "outputs": [],
   "source": [
    "from sklearn import *\n",
    "import numpy as np\n",
    "import pandas as pd\n",
    "import os\n",
    "import sys\n",
    "import matplotlib.pyplot as plt\n",
    "from sklearn.model_selection import train_test_split\n",
    "from sklearn.svm import SVR\n",
    "from sklearn import preprocessing\n",
    "from matplotlib import style\n",
    "style.use('ggplot')"
   ]
  },
  {
   "cell_type": "code",
   "execution_count": 66,
   "metadata": {},
   "outputs": [],
   "source": [
    "sys.path.append('../utilities/')\n",
    "from utils import *"
   ]
  },
  {
   "cell_type": "code",
   "execution_count": 67,
   "metadata": {},
   "outputs": [],
   "source": [
    "dat = pd.read_csv('../CSVData/04.13.2019vsUVAGM2.csv')"
   ]
  },
  {
   "cell_type": "code",
   "execution_count": 68,
   "metadata": {},
   "outputs": [
    {
     "data": {
      "text/plain": [
       "Index(['#', 'Name', 'ClipType', 'Media In', 'Media Out', 'Hit Location X',\n",
       "       'Hit Location Y', 'Hit Location', 'Hit Result', 'At Bat Pitch Count',\n",
       "       'Batter', 'Bunt', 'Count', 'Inning', 'Outs', 'Pitch Location X',\n",
       "       'Pitch Location Y', 'RBI', 'Total Pitch Count', 'Umpire', 'Strike Type',\n",
       "       'Pitcher', 'Home Score', 'Home Team', 'Hit Type', 'Batter Strength',\n",
       "       'Away Team', 'Ball Type', 'Base', 'Pitch Count', 'Pitch Type',\n",
       "       'Team in Field', 'Team at Bat', 'Visitor Score'],\n",
       "      dtype='object')"
      ]
     },
     "execution_count": 68,
     "metadata": {},
     "output_type": "execute_result"
    }
   ],
   "source": [
    "dat.columns"
   ]
  },
  {
   "cell_type": "code",
   "execution_count": 69,
   "metadata": {},
   "outputs": [],
   "source": [
    "testDat = subset(dat, ['Pitch Location X', 'Pitch Location Y', 'Strike Type', 'Ball Type', 'Umpire'])\n",
    "testDat['Result'] = testDat['Strike Type']\n",
    "testDat['Result'].fillna(\"Ball\", inplace = True) "
   ]
  },
  {
   "cell_type": "code",
   "execution_count": 70,
   "metadata": {},
   "outputs": [
    {
     "data": {
      "text/html": [
       "<div>\n",
       "<style scoped>\n",
       "    .dataframe tbody tr th:only-of-type {\n",
       "        vertical-align: middle;\n",
       "    }\n",
       "\n",
       "    .dataframe tbody tr th {\n",
       "        vertical-align: top;\n",
       "    }\n",
       "\n",
       "    .dataframe thead th {\n",
       "        text-align: right;\n",
       "    }\n",
       "</style>\n",
       "<table border=\"1\" class=\"dataframe\">\n",
       "  <thead>\n",
       "    <tr style=\"text-align: right;\">\n",
       "      <th></th>\n",
       "      <th>Pitch Location X</th>\n",
       "      <th>Pitch Location Y</th>\n",
       "      <th>Strike Type</th>\n",
       "      <th>Ball Type</th>\n",
       "      <th>Umpire</th>\n",
       "      <th>Result</th>\n",
       "    </tr>\n",
       "  </thead>\n",
       "  <tbody>\n",
       "    <tr>\n",
       "      <th>0</th>\n",
       "      <td>51</td>\n",
       "      <td>97</td>\n",
       "      <td>Take</td>\n",
       "      <td>NaN</td>\n",
       "      <td>NaN</td>\n",
       "      <td>1.0</td>\n",
       "    </tr>\n",
       "    <tr>\n",
       "      <th>1</th>\n",
       "      <td>46</td>\n",
       "      <td>76</td>\n",
       "      <td>Take</td>\n",
       "      <td>NaN</td>\n",
       "      <td>NaN</td>\n",
       "      <td>1.0</td>\n",
       "    </tr>\n",
       "    <tr>\n",
       "      <th>2</th>\n",
       "      <td>35</td>\n",
       "      <td>127</td>\n",
       "      <td>NaN</td>\n",
       "      <td>Ball</td>\n",
       "      <td>NaN</td>\n",
       "      <td>-1.0</td>\n",
       "    </tr>\n",
       "    <tr>\n",
       "      <th>6</th>\n",
       "      <td>67</td>\n",
       "      <td>96</td>\n",
       "      <td>Take</td>\n",
       "      <td>NaN</td>\n",
       "      <td>NaN</td>\n",
       "      <td>1.0</td>\n",
       "    </tr>\n",
       "    <tr>\n",
       "      <th>7</th>\n",
       "      <td>41</td>\n",
       "      <td>1</td>\n",
       "      <td>NaN</td>\n",
       "      <td>Ball</td>\n",
       "      <td>NaN</td>\n",
       "      <td>-1.0</td>\n",
       "    </tr>\n",
       "    <tr>\n",
       "      <th>...</th>\n",
       "      <td>...</td>\n",
       "      <td>...</td>\n",
       "      <td>...</td>\n",
       "      <td>...</td>\n",
       "      <td>...</td>\n",
       "      <td>...</td>\n",
       "    </tr>\n",
       "    <tr>\n",
       "      <th>214</th>\n",
       "      <td>212</td>\n",
       "      <td>212</td>\n",
       "      <td>NaN</td>\n",
       "      <td>Ball</td>\n",
       "      <td>NaN</td>\n",
       "      <td>-1.0</td>\n",
       "    </tr>\n",
       "    <tr>\n",
       "      <th>216</th>\n",
       "      <td>16</td>\n",
       "      <td>114</td>\n",
       "      <td>NaN</td>\n",
       "      <td>Ball</td>\n",
       "      <td>NaN</td>\n",
       "      <td>-1.0</td>\n",
       "    </tr>\n",
       "    <tr>\n",
       "      <th>218</th>\n",
       "      <td>210</td>\n",
       "      <td>91</td>\n",
       "      <td>NaN</td>\n",
       "      <td>Ball</td>\n",
       "      <td>NaN</td>\n",
       "      <td>-1.0</td>\n",
       "    </tr>\n",
       "    <tr>\n",
       "      <th>219</th>\n",
       "      <td>65</td>\n",
       "      <td>165</td>\n",
       "      <td>Take</td>\n",
       "      <td>NaN</td>\n",
       "      <td>NaN</td>\n",
       "      <td>1.0</td>\n",
       "    </tr>\n",
       "    <tr>\n",
       "      <th>220</th>\n",
       "      <td>208</td>\n",
       "      <td>55</td>\n",
       "      <td>NaN</td>\n",
       "      <td>Ball</td>\n",
       "      <td>NaN</td>\n",
       "      <td>-1.0</td>\n",
       "    </tr>\n",
       "  </tbody>\n",
       "</table>\n",
       "<p>121 rows × 6 columns</p>\n",
       "</div>"
      ],
      "text/plain": [
       "     Pitch Location X  Pitch Location Y Strike Type Ball Type  Umpire  Result\n",
       "0                  51                97        Take       NaN     NaN     1.0\n",
       "1                  46                76        Take       NaN     NaN     1.0\n",
       "2                  35               127         NaN      Ball     NaN    -1.0\n",
       "6                  67                96        Take       NaN     NaN     1.0\n",
       "7                  41                 1         NaN      Ball     NaN    -1.0\n",
       "..                ...               ...         ...       ...     ...     ...\n",
       "214               212               212         NaN      Ball     NaN    -1.0\n",
       "216                16               114         NaN      Ball     NaN    -1.0\n",
       "218               210                91         NaN      Ball     NaN    -1.0\n",
       "219                65               165        Take       NaN     NaN     1.0\n",
       "220               208                55         NaN      Ball     NaN    -1.0\n",
       "\n",
       "[121 rows x 6 columns]"
      ]
     },
     "execution_count": 70,
     "metadata": {},
     "output_type": "execute_result"
    }
   ],
   "source": [
    "frame = testDat[testDat.Result.isin(['Take', 'Ball'])].copy()\n",
    "frame['Result'].replace('Take', 1.0, inplace = True)\n",
    "frame['Result'].replace('Ball', -1.0, inplace = True)\n",
    "vec = np.array(subset(frame, ['Pitch Location X', 'Pitch Location Y']))"
   ]
  },
  {
   "cell_type": "code",
   "execution_count": 245,
   "metadata": {},
   "outputs": [
    {
     "data": {
      "text/plain": [
       "SVR(C=1.0, cache_size=200, coef0=0.0, degree=3, epsilon=0.2, gamma='scale',\n",
       "    kernel='rbf', max_iter=-1, shrinking=True, tol=0.001, verbose=False)"
      ]
     },
     "execution_count": 245,
     "metadata": {},
     "output_type": "execute_result"
    }
   ],
   "source": [
    "clf = SVR(gamma='scale', C=1.0, epsilon=0.2)\n",
    "clf.fit(vec, frame.Result)"
   ]
  },
  {
   "cell_type": "code",
   "execution_count": 247,
   "metadata": {},
   "outputs": [],
   "source": [
    "clf = svm.SVC(gamma='scale', cache_size=7000, kernel='rbf')"
   ]
  },
  {
   "cell_type": "code",
   "execution_count": 248,
   "metadata": {},
   "outputs": [
    {
     "data": {
      "text/plain": [
       "SVC(C=1.0, cache_size=7000, class_weight=None, coef0=0.0,\n",
       "    decision_function_shape='ovr', degree=3, gamma='scale', kernel='rbf',\n",
       "    max_iter=-1, probability=False, random_state=None, shrinking=True,\n",
       "    tol=0.001, verbose=False)"
      ]
     },
     "execution_count": 248,
     "metadata": {},
     "output_type": "execute_result"
    }
   ],
   "source": [
    "clf.fit(vec, frame.Result)"
   ]
  },
  {
   "cell_type": "code",
   "execution_count": 249,
   "metadata": {},
   "outputs": [
    {
     "data": {
      "text/plain": [
       "array([ 1., -1., -1.,  1., -1.,  1., -1., -1.,  1.,  1., -1., -1., -1.,\n",
       "       -1.,  1., -1., -1., -1., -1., -1.,  1., -1., -1.,  1., -1., -1.,\n",
       "       -1., -1., -1., -1.,  1., -1., -1., -1., -1.,  1., -1.,  1., -1.,\n",
       "       -1.,  1.,  1., -1., -1., -1., -1.,  1., -1., -1.,  1., -1., -1.,\n",
       "       -1., -1., -1., -1.,  1.,  1., -1., -1., -1., -1., -1., -1.,  1.,\n",
       "       -1.,  1., -1., -1.,  1., -1., -1., -1.,  1., -1., -1., -1., -1.,\n",
       "       -1.,  1., -1., -1., -1., -1., -1., -1.,  1., -1., -1., -1., -1.,\n",
       "       -1., -1., -1., -1.,  1., -1., -1.,  1., -1., -1., -1., -1., -1.,\n",
       "        1., -1., -1., -1., -1., -1., -1., -1., -1., -1., -1.,  1., -1.,\n",
       "       -1., -1., -1., -1.])"
      ]
     },
     "execution_count": 249,
     "metadata": {},
     "output_type": "execute_result"
    }
   ],
   "source": [
    "clf.predict(vec)"
   ]
  },
  {
   "cell_type": "code",
   "execution_count": 250,
   "metadata": {},
   "outputs": [
    {
     "data": {
      "text/plain": [
       "array([ 1.,  1., -1.,  1., -1.,  1., -1., -1.,  1.,  1., -1.,  1., -1.,\n",
       "       -1.,  1., -1., -1.,  1., -1., -1.,  1., -1., -1.,  1., -1., -1.,\n",
       "       -1., -1., -1., -1.,  1., -1., -1., -1.,  1.,  1., -1.,  1., -1.,\n",
       "       -1.,  1.,  1.,  1., -1., -1., -1.,  1., -1., -1.,  1., -1., -1.,\n",
       "       -1., -1., -1., -1.,  1.,  1., -1., -1., -1.,  1., -1., -1.,  1.,\n",
       "       -1.,  1., -1., -1.,  1., -1.,  1., -1.,  1., -1., -1., -1., -1.,\n",
       "       -1.,  1., -1., -1., -1., -1., -1., -1.,  1., -1., -1., -1., -1.,\n",
       "       -1., -1., -1., -1.,  1., -1., -1.,  1., -1., -1., -1., -1., -1.,\n",
       "        1., -1., -1., -1., -1., -1., -1., -1., -1., -1., -1.,  1., -1.,\n",
       "       -1., -1.,  1., -1.])"
      ]
     },
     "execution_count": 250,
     "metadata": {},
     "output_type": "execute_result"
    }
   ],
   "source": [
    "np.array(frame.Result)"
   ]
  },
  {
   "cell_type": "code",
   "execution_count": 251,
   "metadata": {},
   "outputs": [],
   "source": [
    "def plot_svc_decision_function(model, ax=None, plot_support=True):\n",
    "    \"\"\"Plot the decision function for a 2D SVC\"\"\"\n",
    "    if ax is None:\n",
    "        ax = plt.gca()\n",
    "    xlim = [-10, 240]\n",
    "    ylim = [250, -10]\n",
    "    \n",
    "    # create grid to evaluate model\n",
    "    x = np.linspace(xlim[0], xlim[1], 30)\n",
    "    y = np.linspace(ylim[0], ylim[1], 30)\n",
    "    Y, X = np.meshgrid(y, x)\n",
    "    xy = np.vstack([X.ravel(), Y.ravel()]).T\n",
    "    P = model.decision_function(xy).reshape(X.shape)\n",
    "    \n",
    "    # plot decision boundary and margins\n",
    "    ax.contour(X, Y, P, colors='purple',\n",
    "               levels=[0], alpha=0.6,\n",
    "               linestyles=['-'])\n",
    "    \n",
    "    # plot support vectors\n",
    "    if plot_support:\n",
    "        ax.scatter(model.support_vectors_[:, 0],\n",
    "                   model.support_vectors_[:, 1],\n",
    "                   s=300, linewidth=1, facecolors='none');\n",
    "    ax.set_xlim(xlim)\n",
    "    ax.set_ylim(ylim)\n",
    "    ax.hlines(y=50, xmin=60, xmax=185, linewidth=2, color='g', alpha = 0.3)\n",
    "    ax.hlines(y=190, xmin=60, xmax=185, linewidth=2, color='g', alpha = 0.3)\n",
    "    ax.vlines(x=60, ymin=50, ymax=190, linewidth=2, color='g', alpha = 0.3)\n",
    "    ax.vlines(x=185, ymin=50, ymax=190, linewidth=2, color='g', alpha = 0.3)"
   ]
  },
  {
   "cell_type": "code",
   "execution_count": 252,
   "metadata": {},
   "outputs": [
    {
     "data": {
      "image/png": "[encoded data removed]",
      "text/plain": [
       "<Figure size 432x288 with 1 Axes>"
      ]
     },
     "metadata": {},
     "output_type": "display_data"
    }
   ],
   "source": [
    "plt.scatter(vec[:, 0], vec[:, 1], c=label, s=50, cmap='bwr')\n",
    "plot_svc_decision_function(clf)"
   ]
  },
  {
   "cell_type": "code",
   "execution_count": 253,
   "metadata": {},
   "outputs": [
    {
     "data": {
      "image/png": "[encoded data removed]",
      "text/plain": [
       "<Figure size 432x288 with 1 Axes>"
      ]
     },
     "metadata": {},
     "output_type": "display_data"
    }
   ],
   "source": [
    "preds = clf.predict(vec)\n",
    "plt.scatter(vec[:, 0], vec[:, 1], c=preds, s=50, cmap='bwr')\n",
    "plot_svc_decision_function(clf)"
   ]
  },
  {
   "cell_type": "code",
   "execution_count": 71,
   "metadata": {},
   "outputs": [],
   "source": [
    "locs = pd.read_csv('../../PyTorch-YOLOv3/detect/output.csv', sep = \" \", header = None)"
   ]
  },
  {
   "cell_type": "code",
   "execution_count": 72,
   "metadata": {},
   "outputs": [],
   "source": [
    "locs.columns = ['x', 'y', 'x1', 'y1', 'x4', 'y4']\n",
    "len(locs)\n",
    "locs.x = locs.x + 60\n",
    "locs.y = locs.y + 50"
   ]
  },
  {
   "cell_type": "code",
   "execution_count": 77,
   "metadata": {},
   "outputs": [],
   "source": [
    "yuh = locs[43:44]"
   ]
  },
  {
   "cell_type": "code",
   "execution_count": 78,
   "metadata": {},
   "outputs": [
    {
     "data": {
      "text/plain": [
       "<matplotlib.collections.LineCollection at 0x7f2bd4aa1b38>"
      ]
     },
     "execution_count": 78,
     "metadata": {},
     "output_type": "execute_result"
    },
    {
     "data": {
      "image/png": "[encoded data removed]",
      "text/plain": [
       "<Figure size 432x288 with 1 Axes>"
      ]
     },
     "metadata": {},
     "output_type": "display_data"
    }
   ],
   "source": [
    "plt.scatter(yuh.x, yuh.y)\n",
    "plt.xlim(-10, 240)\n",
    "plt.ylim(250, -10)\n",
    "\n",
    "plt.hlines(y=50, xmin=60, xmax=185, linewidth=2, color='g', alpha = 0.3)\n",
    "plt.hlines(y=190, xmin=60, xmax=185, linewidth=2, color='g', alpha = 0.3)\n",
    "plt.vlines(x=60, ymin=50, ymax=190, linewidth=2, color='g', alpha = 0.3)\n",
    "plt.vlines(x=185, ymin=50, ymax=190, linewidth=2, color='g', alpha = 0.3)\n",
    "#plt.hlines(y=59, xmin=80, xmax=166, linewidth=2, color='g', alpha = 0.3)\n",
    "#plt.hlines(y=178, xmin=80, xmax=166, linewidth=2, color='g', alpha = 0.3)\n",
    "#plt.vlines(x=80, ymin=59, ymax=178, linewidth=2, color='g', alpha = 0.3)\n",
    "#plt.vlines(x=166, ymin=59, ymax=178, linewidth=2, color='g', alpha = 0.3)"
   ]
  },
  {
   "cell_type": "code",
   "execution_count": null,
   "metadata": {},
   "outputs": [],
   "source": []
  }
 ],
 "metadata": {
  "kernelspec": {
   "display_name": "Python 3",
   "language": "python",
   "name": "python3"
  },
  "language_info": {
   "codemirror_mode": {
    "name": "ipython",
    "version": 3
   },
   "file_extension": ".py",
   "mimetype": "text/x-python",
   "name": "python",
   "nbconvert_exporter": "python",
   "pygments_lexer": "ipython3",
   "version": "3.6.8"
  }
 },
 "nbformat": 4,
 "nbformat_minor": 2
}
