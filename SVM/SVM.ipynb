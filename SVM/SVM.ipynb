{
 "cells": [
  {
   "cell_type": "code",
   "execution_count": 55,
   "metadata": {},
   "outputs": [],
   "source": [
    "from sklearn import *\n",
    "import numpy as np\n",
    "import pandas as pd\n",
    "import os\n",
    "import sys\n",
    "import matplotlib.pyplot as plt\n",
    "from sklearn.model_selection import train_test_split\n",
    "from sklearn.svm import SVR\n",
    "from sklearn import preprocessing\n",
    "from matplotlib import style\n",
    "style.use('ggplot')"
   ]
  },
  {
   "cell_type": "code",
   "execution_count": 56,
   "metadata": {},
   "outputs": [],
   "source": [
    "sys.path.append('../utilities/')\n",
    "from utils import *"
   ]
  },
  {
   "cell_type": "code",
   "execution_count": 3,
   "metadata": {},
   "outputs": [],
   "source": [
    "dat = pd.read_csv('../CSVData/04.13.2019 vs UVA 2.csv')"
   ]
  },
  {
   "cell_type": "code",
   "execution_count": 4,
   "metadata": {},
   "outputs": [
    {
     "data": {
      "text/plain": [
       "Index(['#', 'Name', 'ClipType', 'Media In', 'Media Out', 'Hit Location X',\n",
       "       'Hit Location Y', 'Hit Location', 'Hit Result', 'At Bat Pitch Count',\n",
       "       'Batter', 'Bunt', 'Count', 'Inning', 'Outs', 'Pitch Location X',\n",
       "       'Pitch Location Y', 'RBI', 'Total Pitch Count', 'Umpire', 'Strike Type',\n",
       "       'Pitcher', 'Home Score', 'Home Team', 'Hit Type', 'Batter Strength',\n",
       "       'Away Team', 'Ball Type', 'Base', 'Pitch Count', 'Pitch Type',\n",
       "       'Team in Field', 'Team at Bat', 'Visitor Score'],\n",
       "      dtype='object')"
      ]
     },
     "execution_count": 4,
     "metadata": {},
     "output_type": "execute_result"
    }
   ],
   "source": [
    "dat.columns"
   ]
  },
  {
   "cell_type": "code",
   "execution_count": 5,
   "metadata": {},
   "outputs": [],
   "source": [
    "testDat = subset(dat, ['Pitch Location X', 'Pitch Location Y', 'Strike Type', 'Ball Type', 'Umpire'])\n",
    "testDat['Result'] = np.nan"
   ]
  },
  {
   "cell_type": "code",
   "execution_count": 6,
   "metadata": {},
   "outputs": [
    {
     "name": "stderr",
     "output_type": "stream",
     "text": [
      "/home/nmaynard/.local/lib/python3.6/site-packages/ipykernel_launcher.py:5: SettingWithCopyWarning: \n",
      "A value is trying to be set on a copy of a slice from a DataFrame\n",
      "\n",
      "See the caveats in the documentation: http://pandas.pydata.org/pandas-docs/stable/user_guide/indexing.html#returning-a-view-versus-a-copy\n",
      "  \"\"\"\n",
      "/home/nmaynard/.local/lib/python3.6/site-packages/pandas/core/indexing.py:205: SettingWithCopyWarning: \n",
      "A value is trying to be set on a copy of a slice from a DataFrame\n",
      "\n",
      "See the caveats in the documentation: http://pandas.pydata.org/pandas-docs/stable/user_guide/indexing.html#returning-a-view-versus-a-copy\n",
      "  self._setitem_with_indexer(indexer, value)\n",
      "/home/nmaynard/.local/lib/python3.6/site-packages/ipykernel_launcher.py:3: SettingWithCopyWarning: \n",
      "A value is trying to be set on a copy of a slice from a DataFrame\n",
      "\n",
      "See the caveats in the documentation: http://pandas.pydata.org/pandas-docs/stable/user_guide/indexing.html#returning-a-view-versus-a-copy\n",
      "  This is separate from the ipykernel package so we can avoid doing imports until\n"
     ]
    }
   ],
   "source": [
    "for idx, ball in enumerate(testDat['Ball Type']):\n",
    "    if(type(ball) == str):\n",
    "        testDat['Result'][idx] = ball\n",
    "    else:\n",
    "        testDat['Result'][idx] = testDat['Strike Type'][idx]"
   ]
  },
  {
   "cell_type": "code",
   "execution_count": 7,
   "metadata": {},
   "outputs": [],
   "source": [
    "strikes = testDat.loc[testDat['Result'] == 'Take']\n",
    "balls = testDat.loc[testDat['Result'] == 'Ball']\n",
    "\n",
    "strikes = subset(strikes, ['Pitch Location X', 'Pitch Location Y'])\n",
    "\n",
    "balls = subset(balls, ['Pitch Location X', 'Pitch Location Y'])\n",
    "\n",
    "dataDict = {-1:np.array(strikes),\n",
    "           1:np.array(balls)}"
   ]
  },
  {
   "cell_type": "code",
   "execution_count": null,
   "metadata": {},
   "outputs": [],
   "source": []
  },
  {
   "cell_type": "code",
   "execution_count": 8,
   "metadata": {},
   "outputs": [
    {
     "name": "stderr",
     "output_type": "stream",
     "text": [
      "/home/nmaynard/.local/lib/python3.6/site-packages/ipykernel_launcher.py:2: SettingWithCopyWarning: \n",
      "A value is trying to be set on a copy of a slice from a DataFrame.\n",
      "Try using .loc[row_indexer,col_indexer] = value instead\n",
      "\n",
      "See the caveats in the documentation: http://pandas.pydata.org/pandas-docs/stable/user_guide/indexing.html#returning-a-view-versus-a-copy\n",
      "  \n",
      "/home/nmaynard/.local/lib/python3.6/site-packages/ipykernel_launcher.py:3: SettingWithCopyWarning: \n",
      "A value is trying to be set on a copy of a slice from a DataFrame.\n",
      "Try using .loc[row_indexer,col_indexer] = value instead\n",
      "\n",
      "See the caveats in the documentation: http://pandas.pydata.org/pandas-docs/stable/user_guide/indexing.html#returning-a-view-versus-a-copy\n",
      "  This is separate from the ipykernel package so we can avoid doing imports until\n"
     ]
    }
   ],
   "source": [
    "frame = testDat.loc[testDat['Result'].isin(['Take', 'Ball'])]\n",
    "frame['Result'] = frame['Result'].replace('Take', 1.0)\n",
    "frame['Result'] = frame['Result'].replace('Ball', -1.0)\n",
    "vec = np.array(subset(frame, ['Pitch Location X', 'Pitch Location Y']))\n",
    "label = frame['Result']"
   ]
  },
  {
   "cell_type": "code",
   "execution_count": 9,
   "metadata": {},
   "outputs": [
    {
     "data": {
      "text/plain": [
       "SVR(C=1.0, cache_size=200, coef0=0.0, degree=3, epsilon=0.2, gamma='scale',\n",
       "    kernel='rbf', max_iter=-1, shrinking=True, tol=0.001, verbose=False)"
      ]
     },
     "execution_count": 9,
     "metadata": {},
     "output_type": "execute_result"
    }
   ],
   "source": [
    "clf = SVR(gamma='scale', C=1.0, epsilon=0.2)\n",
    "clf.fit(vec, label)"
   ]
  },
  {
   "cell_type": "code",
   "execution_count": 10,
   "metadata": {},
   "outputs": [],
   "source": [
    "clf = svm.SVC(gamma='scale', cache_size=7000, kernel='rbf')"
   ]
  },
  {
   "cell_type": "code",
   "execution_count": 11,
   "metadata": {},
   "outputs": [
    {
     "data": {
      "text/plain": [
       "SVC(C=1.0, cache_size=7000, class_weight=None, coef0=0.0,\n",
       "    decision_function_shape='ovr', degree=3, gamma='scale', kernel='rbf',\n",
       "    max_iter=-1, probability=False, random_state=None, shrinking=True,\n",
       "    tol=0.001, verbose=False)"
      ]
     },
     "execution_count": 11,
     "metadata": {},
     "output_type": "execute_result"
    }
   ],
   "source": [
    "clf.fit(vec, label)"
   ]
  },
  {
   "cell_type": "code",
   "execution_count": 12,
   "metadata": {},
   "outputs": [
    {
     "data": {
      "text/plain": [
       "array([ 1., -1., -1.,  1., -1.,  1., -1., -1.,  1.,  1., -1., -1., -1.,\n",
       "        1., -1., -1., -1., -1., -1.,  1., -1., -1.,  1., -1., -1., -1.,\n",
       "       -1., -1., -1.,  1., -1., -1., -1., -1.,  1., -1.,  1., -1., -1.,\n",
       "        1.,  1., -1., -1., -1., -1.,  1., -1., -1.,  1., -1., -1., -1.,\n",
       "       -1., -1., -1.,  1.,  1., -1., -1., -1., -1., -1., -1.,  1., -1.,\n",
       "        1., -1., -1.,  1., -1., -1., -1.,  1., -1., -1., -1., -1., -1.,\n",
       "        1., -1., -1., -1., -1., -1., -1.,  1., -1., -1., -1., -1., -1.,\n",
       "       -1., -1., -1.,  1., -1., -1.,  1., -1., -1., -1., -1., -1.,  1.,\n",
       "       -1., -1., -1., -1., -1., -1., -1., -1., -1., -1.,  1., -1., -1.,\n",
       "       -1., -1., -1.])"
      ]
     },
     "execution_count": 12,
     "metadata": {},
     "output_type": "execute_result"
    }
   ],
   "source": [
    "clf.predict(vec)"
   ]
  },
  {
   "cell_type": "code",
   "execution_count": 13,
   "metadata": {},
   "outputs": [
    {
     "data": {
      "text/plain": [
       "array([ 1.,  1., -1.,  1., -1.,  1., -1., -1.,  1.,  1.,  1., -1., -1.,\n",
       "        1., -1., -1.,  1., -1., -1.,  1., -1., -1.,  1., -1., -1., -1.,\n",
       "       -1., -1., -1.,  1., -1., -1., -1.,  1.,  1., -1.,  1., -1., -1.,\n",
       "        1.,  1.,  1., -1., -1., -1.,  1., -1., -1.,  1., -1., -1., -1.,\n",
       "       -1., -1., -1.,  1.,  1., -1., -1., -1.,  1., -1., -1.,  1., -1.,\n",
       "        1., -1., -1.,  1., -1.,  1., -1.,  1., -1., -1., -1., -1., -1.,\n",
       "        1., -1., -1., -1., -1., -1., -1.,  1., -1., -1., -1., -1., -1.,\n",
       "       -1., -1., -1.,  1., -1., -1.,  1., -1., -1., -1., -1., -1.,  1.,\n",
       "       -1., -1., -1., -1., -1., -1., -1., -1., -1., -1.,  1., -1., -1.,\n",
       "       -1.,  1., -1.])"
      ]
     },
     "execution_count": 13,
     "metadata": {},
     "output_type": "execute_result"
    }
   ],
   "source": [
    "np.array(label)"
   ]
  },
  {
   "cell_type": "code",
   "execution_count": 14,
   "metadata": {},
   "outputs": [],
   "source": [
    "def plot_svc_decision_function(model, ax=None, plot_support=True):\n",
    "    \"\"\"Plot the decision function for a 2D SVC\"\"\"\n",
    "    if ax is None:\n",
    "        ax = plt.gca()\n",
    "    xlim = [-10, 240]\n",
    "    ylim = [250, -10]\n",
    "    \n",
    "    # create grid to evaluate model\n",
    "    x = np.linspace(xlim[0], xlim[1], 30)\n",
    "    y = np.linspace(ylim[0], ylim[1], 30)\n",
    "    Y, X = np.meshgrid(y, x)\n",
    "    xy = np.vstack([X.ravel(), Y.ravel()]).T\n",
    "    P = model.decision_function(xy).reshape(X.shape)\n",
    "    \n",
    "    # plot decision boundary and margins\n",
    "    ax.contour(X, Y, P, colors='purple',\n",
    "               levels=[0], alpha=0.6,\n",
    "               linestyles=['-'])\n",
    "    \n",
    "    # plot support vectors\n",
    "    if plot_support:\n",
    "        ax.scatter(model.support_vectors_[:, 0],\n",
    "                   model.support_vectors_[:, 1],\n",
    "                   s=300, linewidth=1, facecolors='none');\n",
    "    ax.set_xlim(xlim)\n",
    "    ax.set_ylim(ylim)\n",
    "    ax.hlines(y=50, xmin=60, xmax=185, linewidth=2, color='g', alpha = 0.3)\n",
    "    ax.hlines(y=190, xmin=60, xmax=185, linewidth=2, color='g', alpha = 0.3)\n",
    "    ax.vlines(x=60, ymin=50, ymax=190, linewidth=2, color='g', alpha = 0.3)\n",
    "    ax.vlines(x=185, ymin=50, ymax=190, linewidth=2, color='g', alpha = 0.3)"
   ]
  },
  {
   "cell_type": "code",
   "execution_count": 15,
   "metadata": {},
   "outputs": [
    {
     "data": {
      "image/png": "[encoded data removed]",
      "text/plain": [
       "<Figure size 432x288 with 1 Axes>"
      ]
     },
     "metadata": {
      "needs_background": "light"
     },
     "output_type": "display_data"
    }
   ],
   "source": [
    "plt.scatter(vec[:, 0], vec[:, 1], c=label, s=50, cmap='bwr')\n",
    "plot_svc_decision_function(clf)"
   ]
  },
  {
   "cell_type": "code",
   "execution_count": 16,
   "metadata": {},
   "outputs": [
    {
     "data": {
      "image/png": "[encoded data removed]",
      "text/plain": [
       "<Figure size 432x288 with 1 Axes>"
      ]
     },
     "metadata": {
      "needs_background": "light"
     },
     "output_type": "display_data"
    }
   ],
   "source": [
    "preds = clf.predict(vec)\n",
    "plt.scatter(vec[:, 0], vec[:, 1], c=preds, s=50, cmap='bwr')\n",
    "plot_svc_decision_function(clf)"
   ]
  },
  {
   "cell_type": "code",
   "execution_count": 98,
   "metadata": {},
   "outputs": [],
   "source": [
    "locs = pd.read_csv('../../PyTorch-YOLOv3/detect/output.csv', sep = \" \", header = None)"
   ]
  },
  {
   "cell_type": "code",
   "execution_count": 99,
   "metadata": {},
   "outputs": [],
   "source": [
    "locs.columns = ['x', 'y', 'x1', 'y1', 'x4', 'y4']\n",
    "len(locs)\n",
    "locs.x = locs.x + 60\n",
    "locs.y = locs.y + 50"
   ]
  },
  {
   "cell_type": "code",
   "execution_count": 101,
   "metadata": {},
   "outputs": [
    {
     "data": {
      "text/plain": [
       "34      27\n",
       "94     -88\n",
       "211   -100\n",
       "230     83\n",
       "Name: x, dtype: int64"
      ]
     },
     "execution_count": 101,
     "metadata": {},
     "output_type": "execute_result"
    }
   ],
   "source": [
    "x = locs.x[[34, 94, 211, 230]]\n",
    "y = locs.y[[34, 94, 211, 230]]\n",
    "x"
   ]
  },
  {
   "cell_type": "code",
   "execution_count": 102,
   "metadata": {},
   "outputs": [
    {
     "data": {
      "text/plain": [
       "<matplotlib.collections.LineCollection at 0x7f4fbba46358>"
      ]
     },
     "execution_count": 102,
     "metadata": {},
     "output_type": "execute_result"
    },
    {
     "data": {
      "image/png": "[encoded data removed]",
      "text/plain": [
       "<Figure size 432x288 with 1 Axes>"
      ]
     },
     "metadata": {},
     "output_type": "display_data"
    }
   ],
   "source": [
    "plt.scatter(x, y)\n",
    "plt.xlim(-10, 240)\n",
    "plt.ylim(250, -10)\n",
    "\n",
    "plt.hlines(y=50, xmin=60, xmax=185, linewidth=2, color='g', alpha = 0.3)\n",
    "plt.hlines(y=190, xmin=60, xmax=185, linewidth=2, color='g', alpha = 0.3)\n",
    "plt.vlines(x=60, ymin=50, ymax=190, linewidth=2, color='g', alpha = 0.3)\n",
    "plt.vlines(x=185, ymin=50, ymax=190, linewidth=2, color='g', alpha = 0.3)\n",
    "#plt.hlines(y=59, xmin=80, xmax=166, linewidth=2, color='g', alpha = 0.3)\n",
    "#plt.hlines(y=178, xmin=80, xmax=166, linewidth=2, color='g', alpha = 0.3)\n",
    "#plt.vlines(x=80, ymin=59, ymax=178, linewidth=2, color='g', alpha = 0.3)\n",
    "#plt.vlines(x=166, ymin=59, ymax=178, linewidth=2, color='g', alpha = 0.3)"
   ]
  },
  {
   "cell_type": "code",
   "execution_count": null,
   "metadata": {},
   "outputs": [],
   "source": []
  }
 ],
 "metadata": {
  "kernelspec": {
   "display_name": "Python 3",
   "language": "python",
   "name": "python3"
  },
  "language_info": {
   "codemirror_mode": {
    "name": "ipython",
    "version": 3
   },
   "file_extension": ".py",
   "mimetype": "text/x-python",
   "name": "python",
   "nbconvert_exporter": "python",
   "pygments_lexer": "ipython3",
   "version": "3.7.3"
  }
 },
 "nbformat": 4,
 "nbformat_minor": 2
}
