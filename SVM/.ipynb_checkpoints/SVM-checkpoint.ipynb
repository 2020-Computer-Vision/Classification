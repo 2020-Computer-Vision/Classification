{
 "cells": [
  {
   "cell_type": "code",
   "execution_count": 69,
   "metadata": {},
   "outputs": [],
   "source": [
    "from sklearn import svm\n",
    "import numpy as np\n",
    "import pandas as pd\n",
    "import os\n",
    "import sys"
   ]
  },
  {
   "cell_type": "code",
   "execution_count": 70,
   "metadata": {},
   "outputs": [],
   "source": [
    "sys.path.append('../utilities/')\n",
    "from utils import *"
   ]
  },
  {
   "cell_type": "code",
   "execution_count": 71,
   "metadata": {},
   "outputs": [],
   "source": [
    "dat = pd.read_csv('../CSVData/04.13.2019 vs UVA 2.csv')"
   ]
  },
  {
   "cell_type": "code",
   "execution_count": 72,
   "metadata": {},
   "outputs": [
    {
     "data": {
      "text/plain": [
       "Index(['#', 'Name', 'ClipType', 'Media In', 'Media Out', 'Hit Location X',\n",
       "       'Hit Location Y', 'Hit Location', 'Hit Result', 'At Bat Pitch Count',\n",
       "       'Batter', 'Bunt', 'Count', 'Inning', 'Outs', 'Pitch Location X',\n",
       "       'Pitch Location Y', 'RBI', 'Total Pitch Count', 'Umpire', 'Strike Type',\n",
       "       'Pitcher', 'Home Score', 'Home Team', 'Hit Type', 'Batter Strength',\n",
       "       'Away Team', 'Ball Type', 'Base', 'Pitch Count', 'Pitch Type',\n",
       "       'Team in Field', 'Team at Bat', 'Visitor Score'],\n",
       "      dtype='object')"
      ]
     },
     "execution_count": 72,
     "metadata": {},
     "output_type": "execute_result"
    }
   ],
   "source": [
    "dat.columns"
   ]
  },
  {
   "cell_type": "code",
   "execution_count": 73,
   "metadata": {},
   "outputs": [],
   "source": [
    "testDat = subset(dat, ['Pitch Location X', 'Pitch Location Y', 'Strike Type', 'Ball Type', 'Umpire'])\n",
    "testDat['Result'] = np.nan"
   ]
  },
  {
   "cell_type": "code",
   "execution_count": 74,
   "metadata": {},
   "outputs": [
    {
     "name": "stderr",
     "output_type": "stream",
     "text": [
      "/home/nmaynard/miniconda3/lib/python3.7/site-packages/ipykernel_launcher.py:5: SettingWithCopyWarning: \n",
      "A value is trying to be set on a copy of a slice from a DataFrame\n",
      "\n",
      "See the caveats in the documentation: http://pandas.pydata.org/pandas-docs/stable/user_guide/indexing.html#returning-a-view-versus-a-copy\n",
      "  \"\"\"\n",
      "/home/nmaynard/miniconda3/lib/python3.7/site-packages/pandas/core/indexing.py:202: SettingWithCopyWarning: \n",
      "A value is trying to be set on a copy of a slice from a DataFrame\n",
      "\n",
      "See the caveats in the documentation: http://pandas.pydata.org/pandas-docs/stable/user_guide/indexing.html#returning-a-view-versus-a-copy\n",
      "  self._setitem_with_indexer(indexer, value)\n",
      "/home/nmaynard/miniconda3/lib/python3.7/site-packages/ipykernel_launcher.py:3: SettingWithCopyWarning: \n",
      "A value is trying to be set on a copy of a slice from a DataFrame\n",
      "\n",
      "See the caveats in the documentation: http://pandas.pydata.org/pandas-docs/stable/user_guide/indexing.html#returning-a-view-versus-a-copy\n",
      "  This is separate from the ipykernel package so we can avoid doing imports until\n"
     ]
    }
   ],
   "source": [
    "for idx, ball in enumerate(testDat['Ball Type']):\n",
    "    if(type(ball) == str):\n",
    "        testDat['Result'][idx] = ball\n",
    "    else:\n",
    "        testDat['Result'][idx] = testDat['Strike Type'][idx]"
   ]
  },
  {
   "cell_type": "code",
   "execution_count": 88,
   "metadata": {},
   "outputs": [],
   "source": [
    "testDat2 = testDat[~testDat['Result'].isin(['Ball in Play', 'Swing', 'Foul', np.nan])]"
   ]
  },
  {
   "cell_type": "code",
   "execution_count": 109,
   "metadata": {},
   "outputs": [
    {
     "data": {
      "text/plain": [
       "array([ 51.,  46.,  35.,  67.,  41.,  52., 132.,  34., 124., 172.,  49.,\n",
       "        89., 214., 180.,  27.,  10.,  37.,  33.,  50.,  51.,  14.,  67.,\n",
       "        85.,  85., 105.,  39.,  45., 193., 214.,  53.,  36., 100.,  40.,\n",
       "       182., 159., 206., 180., 195., 210., 172.,  67., 205., 209., 223.,\n",
       "       215.,  99.,  91.,  39.,  53., 117.,  34.,  24.,  33.,  22.,  26.,\n",
       "       168., 128., 207., 109., 195.,  31.,  92., 183.,  73.,  37., 103.,\n",
       "       112., 193., 155., 198., 184., 214., 156.,  65., 197., 175.,  41.,\n",
       "       205., 168., 184., 201., 145.,  65.,  21., 164.,  78.,  36., 197.,\n",
       "       165., 186., 207.,  28.,  37.,  65.,  51.,  34.,  39., 146.,  20.,\n",
       "       101., 197.,  66.,  27.,  49., 179.,  13., 206., 201., 206.,  38.,\n",
       "       105., 178.,  30., 189., 151., 212.,  16., 210.,  65., 208.])"
      ]
     },
     "execution_count": 109,
     "metadata": {},
     "output_type": "execute_result"
    }
   ],
   "source": [
    "list(pd.Series())"
   ]
  },
  {
   "cell_type": "code",
   "execution_count": 50,
   "metadata": {},
   "outputs": [],
   "source": [
    "def wTx(w, x):\n",
    "    return np.dot(x, w)\n",
    "    \n",
    "def sigmoid(z):\n",
    "    "
   ]
  },
  {
   "cell_type": "code",
   "execution_count": 85,
   "metadata": {},
   "outputs": [
    {
     "ename": "TypeError",
     "evalue": "fit() missing 2 required positional arguments: 'X' and 'y'",
     "output_type": "error",
     "traceback": [
      "\u001b[0;31m---------------------------------------------------------------------------\u001b[0m",
      "\u001b[0;31mTypeError\u001b[0m                                 Traceback (most recent call last)",
      "\u001b[0;32m<ipython-input-85-211f4c50e390>\u001b[0m in \u001b[0;36m<module>\u001b[0;34m\u001b[0m\n\u001b[1;32m      1\u001b[0m \u001b[0mmodfit\u001b[0m \u001b[0;34m=\u001b[0m \u001b[0msvm\u001b[0m\u001b[0;34m.\u001b[0m\u001b[0mSVC\u001b[0m\u001b[0;34m(\u001b[0m\u001b[0mkernel\u001b[0m \u001b[0;34m=\u001b[0m \u001b[0;34m'poly'\u001b[0m\u001b[0;34m,\u001b[0m \u001b[0mdegree\u001b[0m\u001b[0;34m=\u001b[0m\u001b[0;36m2\u001b[0m\u001b[0;34m)\u001b[0m\u001b[0;34m\u001b[0m\u001b[0;34m\u001b[0m\u001b[0m\n\u001b[0;32m----> 2\u001b[0;31m \u001b[0mmodfit\u001b[0m\u001b[0;34m.\u001b[0m\u001b[0mfit\u001b[0m\u001b[0;34m(\u001b[0m\u001b[0;34m)\u001b[0m\u001b[0;34m\u001b[0m\u001b[0;34m\u001b[0m\u001b[0m\n\u001b[0m",
      "\u001b[0;31mTypeError\u001b[0m: fit() missing 2 required positional arguments: 'X' and 'y'"
     ]
    }
   ],
   "source": [
    "modfit = svm.SVC(kernel = 'poly', degree=2)\n",
    "modfit.fit()"
   ]
  }
 ],
 "metadata": {
  "kernelspec": {
   "display_name": "Python 3",
   "language": "python",
   "name": "python3"
  }
 },
 "nbformat": 4,
 "nbformat_minor": 2
}
