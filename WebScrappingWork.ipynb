{
 "cells": [
  {
   "cell_type": "code",
   "execution_count": 43,
   "metadata": {},
   "outputs": [],
   "source": [
    "import lxml\n",
    "from requests_html import HTMLSession\n",
    "from bs4 import BeautifulSoup"
   ]
  },
  {
   "cell_type": "code",
   "execution_count": 44,
   "metadata": {},
   "outputs": [],
   "source": [
    "url = 'https://pittsburghpanthers.com/roster.aspx?roster=1208&path=softball'\n",
    "session = HTMLSession()\n",
    "r = session.get(url)"
   ]
  },
  {
   "cell_type": "code",
   "execution_count": 45,
   "metadata": {},
   "outputs": [
    {
     "data": {
      "text/plain": [
       "<Response [200]>"
      ]
     },
     "execution_count": 45,
     "metadata": {},
     "output_type": "execute_result"
    }
   ],
   "source": [
    "# Check if we get a response\n",
    "r"
   ]
  },
  {
   "cell_type": "code",
   "execution_count": 46,
   "metadata": {},
   "outputs": [],
   "source": [
    "soup = BeautifulSoup(r.text, 'html.parser')"
   ]
  },
  {
   "cell_type": "code",
   "execution_count": 55,
   "metadata": {},
   "outputs": [
    {
     "data": {
      "text/plain": [
       "[<td class=\"sidearm-table-player-name\" data-sort=\"McGaffic, Connor\"><a href=\"/roster.aspx?rp_id=9759\">Connor McGaffic</a></td>,\n",
       " <td class=\"sidearm-table-player-name\" data-sort=\"Bach, Hannah \"><a href=\"/roster.aspx?rp_id=10102\">Hannah  Bach</a></td>,\n",
       " <td class=\"sidearm-table-player-name\" data-sort=\"Dawson, Sarah\"><a href=\"/roster.aspx?rp_id=9750\">Sarah Dawson</a></td>,\n",
       " <td class=\"sidearm-table-player-name\" data-sort=\"Levesque, Hunter\"><a href=\"/roster.aspx?rp_id=9758\">Hunter Levesque</a></td>,\n",
       " <td class=\"sidearm-table-player-name\" data-sort=\"Myers, Taylor\"><a href=\"/roster.aspx?rp_id=9760\">Taylor Myers</a></td>,\n",
       " <td class=\"sidearm-table-player-name\" data-sort=\"Kruger, Kaitlyn\"><a href=\"/roster.aspx?rp_id=9757\">Kaitlyn Kruger</a></td>,\n",
       " <td class=\"sidearm-table-player-name\" data-sort=\"Gray, Olivia\"><a href=\"/roster.aspx?rp_id=9753\">Olivia Gray</a></td>,\n",
       " <td class=\"sidearm-table-player-name\" data-sort=\"Rahach, Taylor\"><a href=\"/roster.aspx?rp_id=9761\">Taylor Rahach</a></td>,\n",
       " <td class=\"sidearm-table-player-name\" data-sort=\"DeMatteo, Marissa\"><a href=\"/roster.aspx?rp_id=9751\">Marissa DeMatteo</a></td>,\n",
       " <td class=\"sidearm-table-player-name\" data-sort=\"Walter, Chandler\"><a href=\"/roster.aspx?rp_id=10156\">Chandler Walter</a></td>,\n",
       " <td class=\"sidearm-table-player-name\" data-sort=\"Horrell, Brie\"><a href=\"/roster.aspx?rp_id=9755\">Brie Horrell</a></td>,\n",
       " <td class=\"sidearm-table-player-name\" data-sort=\"Susi, Nava\"><a href=\"/roster.aspx?rp_id=10111\">Nava Susi</a></td>,\n",
       " <td class=\"sidearm-table-player-name\" data-sort=\"Barbee, Walker\"><a href=\"/roster.aspx?rp_id=10155\">Walker Barbee</a></td>,\n",
       " <td class=\"sidearm-table-player-name\" data-sort=\"Seamans, Sarah \"><a href=\"/roster.aspx?rp_id=10103\">Sarah  Seamans</a></td>,\n",
       " <td class=\"sidearm-table-player-name\" data-sort=\"Eldridge, Jess\"><a href=\"/roster.aspx?rp_id=10293\">Jess Eldridge</a></td>,\n",
       " <td class=\"sidearm-table-player-name\" data-sort=\"Solak, Alexis\"><a href=\"/roster.aspx?rp_id=9762\">Alexis Solak</a></td>,\n",
       " <td class=\"sidearm-table-player-name\" data-sort=\"Edwards , Abby \"><a href=\"/roster.aspx?rp_id=10105\">Abby  Edwards </a></td>,\n",
       " <td class=\"sidearm-table-player-name\" data-sort=\"Batesole, Morgan\"><a href=\"/roster.aspx?rp_id=9749\">Morgan Batesole</a></td>,\n",
       " <td class=\"sidearm-table-player-name\" data-sort=\"Pavlick, Katlyn\"><a href=\"/roster.aspx?rp_id=10104\">Katlyn Pavlick</a></td>,\n",
       " <td class=\"sidearm-table-player-name\" data-sort=\"Knight, Brittany\"><a href=\"/roster.aspx?rp_id=9756\">Brittany Knight</a></td>,\n",
       " <td class=\"sidearm-table-player-name\" data-sort=\"Haynes, Alexee\"><a href=\"/roster.aspx?rp_id=9754\">Alexee Haynes</a></td>,\n",
       " <td class=\"sidearm-table-player-name\" data-sort=\"Fredericks, Gabrielle\"><a href=\"/roster.aspx?rp_id=9752\">Gabrielle Fredericks</a></td>]"
      ]
     },
     "execution_count": 55,
     "metadata": {},
     "output_type": "execute_result"
    }
   ],
   "source": [
    "soup.findAll('td', {\"class\": \"sidearm-table-player-name\"})"
   ]
  },
  {
   "cell_type": "code",
   "execution_count": 54,
   "metadata": {},
   "outputs": [
    {
     "data": {
      "text/plain": [
       "[<td data-bind=\"click: function() { return true; }, clickBubble: false, html: value, attr: { 'data-label': label }\"></td>,\n",
       " <td data-bind=\"click: function() { return true; }, clickBubble: false, html: value, attr: { 'data-label': label }\"></td>,\n",
       " <td class=\"roster_jerseynum\">1</td>,\n",
       " <td class=\"sidearm-table-player-name\" data-sort=\"McGaffic, Connor\"><a href=\"/roster.aspx?rp_id=9759\">Connor McGaffic</a></td>,\n",
       " <td class=\"rp_position_short\">OF</td>,\n",
       " <td class=\"roster_class\" data-sort=\"4\">Jr.</td>,\n",
       " <td class=\"sidearm-table-custom-field rp_custom2\"><span data-custom-label=\"B/T:\">R/R</span></td>,\n",
       " <td class=\"hometownhighschool\">Georgetown, PA / South Side Beaver HS</td>,\n",
       " <td class=\"roster_jerseynum\">3</td>,\n",
       " <td class=\"sidearm-table-player-name\" data-sort=\"Bach, Hannah \"><a href=\"/roster.aspx?rp_id=10102\">Hannah  Bach</a></td>,\n",
       " <td class=\"rp_position_short\">C/U</td>,\n",
       " <td class=\"roster_class\" data-sort=\"0\">Fr.</td>,\n",
       " <td class=\"sidearm-table-custom-field rp_custom2\"><span data-custom-label=\"B/T:\">R/R</span></td>,\n",
       " <td class=\"hometownhighschool\">Smithton, PA / Yough Senior HS</td>,\n",
       " <td class=\"roster_jerseynum\">4</td>,\n",
       " <td class=\"sidearm-table-player-name\" data-sort=\"Dawson, Sarah\"><a href=\"/roster.aspx?rp_id=9750\">Sarah Dawson</a></td>,\n",
       " <td class=\"rp_position_short\">P</td>,\n",
       " <td class=\"roster_class\" data-sort=\"6\">Sr.</td>,\n",
       " <td class=\"sidearm-table-custom-field rp_custom2\"><span data-custom-label=\"B/T:\">R/R</span></td>,\n",
       " <td class=\"hometownhighschool\">Bridgewater, MA / Bridgewater-Raynham HS</td>,\n",
       " <td class=\"roster_jerseynum\">5</td>,\n",
       " <td class=\"sidearm-table-player-name\" data-sort=\"Levesque, Hunter\"><a href=\"/roster.aspx?rp_id=9758\">Hunter Levesque</a></td>,\n",
       " <td class=\"rp_position_short\">OF/INF</td>,\n",
       " <td class=\"roster_class\" data-sort=\"2\">So.</td>,\n",
       " <td class=\"sidearm-table-custom-field rp_custom2\"><span data-custom-label=\"B/T:\">R/R</span></td>,\n",
       " <td class=\"hometownhighschool\">Troy, NY / Troy HS</td>,\n",
       " <td class=\"roster_jerseynum\">6</td>,\n",
       " <td class=\"sidearm-table-player-name\" data-sort=\"Myers, Taylor\"><a href=\"/roster.aspx?rp_id=9760\">Taylor Myers</a></td>,\n",
       " <td class=\"rp_position_short\">OF</td>,\n",
       " <td class=\"roster_class\" data-sort=\"6\">Sr.</td>,\n",
       " <td class=\"sidearm-table-custom-field rp_custom2\"><span data-custom-label=\"B/T:\">R/R</span></td>,\n",
       " <td class=\"hometownhighschool\">San Diego, CA / Point Loma HS</td>,\n",
       " <td class=\"roster_jerseynum\">7</td>,\n",
       " <td class=\"sidearm-table-player-name\" data-sort=\"Kruger, Kaitlyn\"><a href=\"/roster.aspx?rp_id=9757\">Kaitlyn Kruger</a></td>,\n",
       " <td class=\"rp_position_short\">INF/OF</td>,\n",
       " <td class=\"roster_class\" data-sort=\"4\">Jr.</td>,\n",
       " <td class=\"sidearm-table-custom-field rp_custom2\"><span data-custom-label=\"B/T:\">R/R</span></td>,\n",
       " <td class=\"hometownhighschool\">Calabasas, CA / Oaks Christian</td>,\n",
       " <td class=\"roster_jerseynum\">10</td>,\n",
       " <td class=\"sidearm-table-player-name\" data-sort=\"Gray, Olivia\"><a href=\"/roster.aspx?rp_id=9753\">Olivia Gray</a></td>,\n",
       " <td class=\"rp_position_short\">INF</td>,\n",
       " <td class=\"roster_class\" data-sort=\"6\">Sr.</td>,\n",
       " <td class=\"sidearm-table-custom-field rp_custom2\"><span data-custom-label=\"B/T:\">R/R</span></td>,\n",
       " <td class=\"hometownhighschool\">Washington, PA / Trinity HS</td>,\n",
       " <td class=\"roster_jerseynum\">11</td>,\n",
       " <td class=\"sidearm-table-player-name\" data-sort=\"Rahach, Taylor\"><a href=\"/roster.aspx?rp_id=9761\">Taylor Rahach</a></td>,\n",
       " <td class=\"rp_position_short\">P</td>,\n",
       " <td class=\"roster_class\" data-sort=\"6\">Sr.</td>,\n",
       " <td class=\"sidearm-table-custom-field rp_custom2\"><span data-custom-label=\"B/T:\">R/R</span></td>,\n",
       " <td class=\"hometownhighschool\">Kent, OH / Walsh Jesuit HS</td>,\n",
       " <td class=\"roster_jerseynum\">12</td>,\n",
       " <td class=\"sidearm-table-player-name\" data-sort=\"DeMatteo, Marissa\"><a href=\"/roster.aspx?rp_id=9751\">Marissa DeMatteo</a></td>,\n",
       " <td class=\"rp_position_short\">INF</td>,\n",
       " <td class=\"roster_class\" data-sort=\"6\">Sr.</td>,\n",
       " <td class=\"sidearm-table-custom-field rp_custom2\"><span data-custom-label=\"B/T:\">L/R</span></td>,\n",
       " <td class=\"hometownhighschool\">New Castle, PA / Neshannock HS</td>,\n",
       " <td class=\"roster_jerseynum\">13</td>,\n",
       " <td class=\"sidearm-table-player-name\" data-sort=\"Walter, Chandler\"><a href=\"/roster.aspx?rp_id=10156\">Chandler Walter</a></td>,\n",
       " <td class=\"rp_position_short\">INF</td>,\n",
       " <td class=\"roster_class\" data-sort=\"2\">So.</td>,\n",
       " <td class=\"sidearm-table-custom-field rp_custom2\"><span data-custom-label=\"B/T:\">R/R</span></td>,\n",
       " <td class=\"hometownhighschool\">Chandler, AZ / Perry HS</td>,\n",
       " <td class=\"roster_jerseynum\">14</td>,\n",
       " <td class=\"sidearm-table-player-name\" data-sort=\"Horrell, Brie\"><a href=\"/roster.aspx?rp_id=9755\">Brie Horrell</a></td>,\n",
       " <td class=\"rp_position_short\">C/U</td>,\n",
       " <td class=\"roster_class\" data-sort=\"2\">So.</td>,\n",
       " <td class=\"sidearm-table-custom-field rp_custom2\"><span data-custom-label=\"B/T:\">R/R</span></td>,\n",
       " <td class=\"hometownhighschool\">Gibsonia, PA / Pine-Richland HS</td>,\n",
       " <td class=\"roster_jerseynum\">16</td>,\n",
       " <td class=\"sidearm-table-player-name\" data-sort=\"Susi, Nava\"><a href=\"/roster.aspx?rp_id=10111\">Nava Susi</a></td>,\n",
       " <td class=\"rp_position_short\">INF/U</td>,\n",
       " <td class=\"roster_class\" data-sort=\"6\">Sr.</td>,\n",
       " <td class=\"sidearm-table-custom-field rp_custom2\"><span data-custom-label=\"B/T:\">R/L</span></td>,\n",
       " <td class=\"hometownhighschool\">Boynton Beach, FL / Western HS</td>,\n",
       " <td class=\"roster_jerseynum\">18</td>,\n",
       " <td class=\"sidearm-table-player-name\" data-sort=\"Barbee, Walker\"><a href=\"/roster.aspx?rp_id=10155\">Walker Barbee</a></td>,\n",
       " <td class=\"rp_position_short\">C</td>,\n",
       " <td class=\"roster_class\" data-sort=\"4\">Jr.</td>,\n",
       " <td class=\"sidearm-table-custom-field rp_custom2\"><span data-custom-label=\"B/T:\">R/R</span></td>,\n",
       " <td class=\"hometownhighschool\">Oakboro, NC / West Stanly HS</td>,\n",
       " <td class=\"roster_jerseynum\">20</td>,\n",
       " <td class=\"sidearm-table-player-name\" data-sort=\"Seamans, Sarah \"><a href=\"/roster.aspx?rp_id=10103\">Sarah  Seamans</a></td>,\n",
       " <td class=\"rp_position_short\">OF</td>,\n",
       " <td class=\"roster_class\" data-sort=\"0\">Fr.</td>,\n",
       " <td class=\"sidearm-table-custom-field rp_custom2\"><span data-custom-label=\"B/T:\">R/R</span></td>,\n",
       " <td class=\"hometownhighschool\">New Castle, PA / Union Area HS</td>,\n",
       " <td class=\"roster_jerseynum\">21</td>,\n",
       " <td class=\"sidearm-table-player-name\" data-sort=\"Eldridge, Jess\"><a href=\"/roster.aspx?rp_id=10293\">Jess Eldridge</a></td>,\n",
       " <td class=\"rp_position_short\">P</td>,\n",
       " <td class=\"roster_class\" data-sort=\"2\">So.</td>,\n",
       " <td class=\"sidearm-table-custom-field rp_custom2\"><span data-custom-label=\"B/T:\"></span></td>,\n",
       " <td class=\"hometownhighschool\">Phoenixville, Pa. / Phoenixville Area HS</td>,\n",
       " <td class=\"roster_jerseynum\">22</td>,\n",
       " <td class=\"sidearm-table-player-name\" data-sort=\"Solak, Alexis\"><a href=\"/roster.aspx?rp_id=9762\">Alexis Solak</a></td>,\n",
       " <td class=\"rp_position_short\">INF</td>,\n",
       " <td class=\"roster_class\" data-sort=\"6\">Sr.</td>,\n",
       " <td class=\"sidearm-table-custom-field rp_custom2\"><span data-custom-label=\"B/T:\">R/R</span></td>,\n",
       " <td class=\"hometownhighschool\">Woodridge, IL / Naperville North HS</td>,\n",
       " <td class=\"roster_jerseynum\">23</td>,\n",
       " <td class=\"sidearm-table-player-name\" data-sort=\"Edwards , Abby \"><a href=\"/roster.aspx?rp_id=10105\">Abby  Edwards </a></td>,\n",
       " <td class=\"rp_position_short\">P/U</td>,\n",
       " <td class=\"roster_class\" data-sort=\"0\">Fr.</td>,\n",
       " <td class=\"sidearm-table-custom-field rp_custom2\"><span data-custom-label=\"B/T:\">R/R</span></td>,\n",
       " <td class=\"hometownhighschool\">Dwight, IL / Dwight Township HS</td>,\n",
       " <td class=\"roster_jerseynum\">26</td>,\n",
       " <td class=\"sidearm-table-player-name\" data-sort=\"Batesole, Morgan\"><a href=\"/roster.aspx?rp_id=9749\">Morgan Batesole</a></td>,\n",
       " <td class=\"rp_position_short\">INF</td>,\n",
       " <td class=\"roster_class\" data-sort=\"2\">So.</td>,\n",
       " <td class=\"sidearm-table-custom-field rp_custom2\"><span data-custom-label=\"B/T:\">R/R</span></td>,\n",
       " <td class=\"hometownhighschool\">Walnut Creek, CA / Northgate HS</td>,\n",
       " <td class=\"roster_jerseynum\">27</td>,\n",
       " <td class=\"sidearm-table-player-name\" data-sort=\"Pavlick, Katlyn\"><a href=\"/roster.aspx?rp_id=10104\">Katlyn Pavlick</a></td>,\n",
       " <td class=\"rp_position_short\">OF/INF</td>,\n",
       " <td class=\"roster_class\" data-sort=\"0\">Fr.</td>,\n",
       " <td class=\"sidearm-table-custom-field rp_custom2\"><span data-custom-label=\"B/T:\">R/R</span></td>,\n",
       " <td class=\"hometownhighschool\">South Park, PA / South Park HS</td>,\n",
       " <td class=\"roster_jerseynum\">30</td>,\n",
       " <td class=\"sidearm-table-player-name\" data-sort=\"Knight, Brittany\"><a href=\"/roster.aspx?rp_id=9756\">Brittany Knight</a></td>,\n",
       " <td class=\"rp_position_short\">P/INF</td>,\n",
       " <td class=\"roster_class\" data-sort=\"3\">R-So.</td>,\n",
       " <td class=\"sidearm-table-custom-field rp_custom2\"><span data-custom-label=\"B/T:\">L/R</span></td>,\n",
       " <td class=\"hometownhighschool\">Windham, OH / Windham HS</td>,\n",
       " <td class=\"roster_jerseynum\">31</td>,\n",
       " <td class=\"sidearm-table-player-name\" data-sort=\"Haynes, Alexee\"><a href=\"/roster.aspx?rp_id=9754\">Alexee Haynes</a></td>,\n",
       " <td class=\"rp_position_short\">INF</td>,\n",
       " <td class=\"roster_class\" data-sort=\"4\">Jr.</td>,\n",
       " <td class=\"sidearm-table-custom-field rp_custom2\"><span data-custom-label=\"B/T:\">R/R</span></td>,\n",
       " <td class=\"hometownhighschool\">Charleston, WV / Sissonville HS</td>,\n",
       " <td class=\"roster_jerseynum\">48</td>,\n",
       " <td class=\"sidearm-table-player-name\" data-sort=\"Fredericks, Gabrielle\"><a href=\"/roster.aspx?rp_id=9752\">Gabrielle Fredericks</a></td>,\n",
       " <td class=\"rp_position_short\">INF/C</td>,\n",
       " <td class=\"roster_class\" data-sort=\"6\">Sr.</td>,\n",
       " <td class=\"sidearm-table-custom-field rp_custom2\"><span data-custom-label=\"B/T:\">L/L</span></td>,\n",
       " <td class=\"hometownhighschool\">New Philadelphia, OH / Tuscarawas Central Catholic HS</td>,\n",
       " <td class=\"image_combined_path hide-on-small-down noprint\">\n",
       " <img alt=\"Jodi Hermanek Headshot\" class=\"lazyload\" data-src=\"/images/2018/8/15/JodiHermanek_HeadCoach.jpg?width=50\"/>\n",
       " </td>,\n",
       " <td><a href=\"/coaches.aspx?rc=1614&amp;path=softball\">Jodi Hermanek</a></td>,\n",
       " <td>Head Coach, Softball</td>,\n",
       " <td class=\"image_combined_path hide-on-small-down noprint\">\n",
       " <img alt=\"Jillian Van Wagnen\" class=\"lazyload\" data-src=\"/images/2018/8/22/JillianVanWagnen_AssistantCoach_71.jpg?width=50\"/>\n",
       " </td>,\n",
       " <td><a href=\"/coaches.aspx?rc=1618&amp;path=softball\">Jillian Van Wagnen</a></td>,\n",
       " <td>Assistant Coach</td>,\n",
       " <td class=\"image_combined_path hide-on-small-down noprint\">\n",
       " <img alt=\"Brock Van Faussien\" class=\"lazyload\" data-src=\"/images/2018/8/29/BrockVanFaussien_AssistantCoach.jpg?width=50\"/>\n",
       " </td>,\n",
       " <td><a href=\"/coaches.aspx?rc=1622&amp;path=softball\">Brock Van Faussien</a></td>,\n",
       " <td>Assistant Coach</td>,\n",
       " <td class=\"image_combined_path hide-on-small-down noprint\">\n",
       " <img alt=\"Maddy Grimm\" class=\"lazyload\" data-src=\"/images/2018/11/2/Maddy_Grimm_1_.jpg?width=50\"/>\n",
       " </td>,\n",
       " <td><a href=\"/coaches.aspx?rc=1727&amp;path=softball\">Maddy Grimm</a></td>,\n",
       " <td>Volunteer Assistant Coach</td>]"
      ]
     },
     "execution_count": 54,
     "metadata": {},
     "output_type": "execute_result"
    }
   ],
   "source": [
    "soup.findAll('td')"
   ]
  },
  {
   "cell_type": "code",
   "execution_count": 57,
   "metadata": {},
   "outputs": [],
   "source": [
    "url = 'https://pittsburghpanthers.com/roster.aspx?rp_id=10506'\n",
    "r2 = session.get(url)"
   ]
  },
  {
   "cell_type": "code",
   "execution_count": 59,
   "metadata": {},
   "outputs": [],
   "source": [
    "soup2 = BeautifulSoup(r2.text, 'html.parser')"
   ]
  },
  {
   "cell_type": "code",
   "execution_count": 66,
   "metadata": {},
   "outputs": [
    {
     "data": {
      "text/plain": [
       "[<img alt=\"Connor McGaffic\" src=\"/images/2019/10/15/1_McGaffic.jpg?width=300\"/>]"
      ]
     },
     "execution_count": 66,
     "metadata": {},
     "output_type": "execute_result"
    }
   ],
   "source": [
    "soup2.findAll('img', {\"alt\": \"Connor McGaffic\"})"
   ]
  },
  {
   "cell_type": "code",
   "execution_count": null,
   "metadata": {},
   "outputs": [],
   "source": []
  }
 ],
 "metadata": {
  "kernelspec": {
   "display_name": "Python 3",
   "language": "python",
   "name": "python3"
  },
  "language_info": {
   "codemirror_mode": {
    "name": "ipython",
    "version": 3
   },
   "file_extension": ".py",
   "mimetype": "text/x-python",
   "name": "python",
   "nbconvert_exporter": "python",
   "pygments_lexer": "ipython3",
   "version": "3.7.3"
  }
 },
 "nbformat": 4,
 "nbformat_minor": 2
}
