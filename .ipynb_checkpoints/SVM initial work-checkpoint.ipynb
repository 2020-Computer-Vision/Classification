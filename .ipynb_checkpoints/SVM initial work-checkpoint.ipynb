{
 "cells": [
  {
   "cell_type": "code",
   "execution_count": 1,
   "metadata": {},
   "outputs": [],
   "source": [
    "# Imports packages required.\n",
    "import pandas as pd\n",
    "import matplotlib.pyplot as plt\n",
    "import os\n",
    "from selenium import webdriver\n",
    "from bs4 import BeautifulSoup\n",
    "import lxml\n",
    "from requests_html import HTMLSession"
   ]
  },
  {
   "cell_type": "code",
   "execution_count": 2,
   "metadata": {},
   "outputs": [],
   "source": [
    "# Import one of the csv files to work on data manipulation\n",
    "dat = pd.read_csv('CSVData/UVA 1.csv')\n",
    "Umps = pd.read_csv('CSVData/Umpires.csv')"
   ]
  },
  {
   "cell_type": "code",
   "execution_count": 15,
   "metadata": {},
   "outputs": [
    {
     "ename": "ValueError",
     "evalue": "dictionary update sequence element #0 has length 11; 2 is required",
     "output_type": "error",
     "traceback": [
      "\u001b[0;31m---------------------------------------------------------------------------\u001b[0m",
      "\u001b[0;31mValueError\u001b[0m                                Traceback (most recent call last)",
      "\u001b[0;32m<ipython-input-15-ab466f07272c>\u001b[0m in \u001b[0;36m<module>\u001b[0;34m\u001b[0m\n\u001b[1;32m      1\u001b[0m \u001b[0;31m# Display DataFrame\u001b[0m\u001b[0;34m\u001b[0m\u001b[0;34m\u001b[0m\u001b[0;34m\u001b[0m\u001b[0m\n\u001b[0;32m----> 2\u001b[0;31m \u001b[0mtest\u001b[0m \u001b[0;34m=\u001b[0m \u001b[0mdict\u001b[0m\u001b[0;34m(\u001b[0m\u001b[0mset\u001b[0m\u001b[0;34m(\u001b[0m\u001b[0mUmps\u001b[0m\u001b[0;34m[\u001b[0m\u001b[0;34m'Home Plate Umpire'\u001b[0m\u001b[0;34m]\u001b[0m\u001b[0;34m)\u001b[0m\u001b[0;34m)\u001b[0m\u001b[0;34m\u001b[0m\u001b[0;34m\u001b[0m\u001b[0m\n\u001b[0m",
      "\u001b[0;31mValueError\u001b[0m: dictionary update sequence element #0 has length 11; 2 is required"
     ]
    }
   ],
   "source": [
    "# Display DataFrame\n",
    "test = dict(set(Umps['Home Plate Umpire']))"
   ]
  },
  {
   "cell_type": "code",
   "execution_count": 4,
   "metadata": {},
   "outputs": [
    {
     "data": {
      "text/plain": [
       "Index(['Name', 'Position', 'Duration', '1. Baserunning Situation', '1. Date',\n",
       "       '1. Pitchers Name', '1. Pitchers Side', '2. Hitters Name',\n",
       "       '2. Hitters Side', '3. Pitch Type', '4. Pitch Location',\n",
       "       '5. Catcher Throw Down', '5. Game Pitch Result', '6. Pitch Count',\n",
       "       '6. Previous Pitch Count', '8. Hit Location', '8. Hit Results',\n",
       "       '8. RBI', '8. Well Hit', '9. Outs', 'Period', 'Team 1. Pitchers Name',\n",
       "       'Team 2. Hitters Name', 'XY Hit Location', 'XY Pitch Location',\n",
       "       'Z-Game Details'],\n",
       "      dtype='object')"
      ]
     },
     "execution_count": 4,
     "metadata": {},
     "output_type": "execute_result"
    }
   ],
   "source": [
    "# Show names of columns in csv file.\n",
    "dat.columns"
   ]
  },
  {
   "cell_type": "code",
   "execution_count": 6,
   "metadata": {},
   "outputs": [],
   "source": [
    "woo = subset(dat, cols = ['XY Pitch Location', '5. Game Pitch Result'])"
   ]
  },
  {
   "cell_type": "code",
   "execution_count": 7,
   "metadata": {},
   "outputs": [
    {
     "data": {
      "text/plain": [
       "<matplotlib.collections.PathCollection at 0x7faf4d5ab048>"
      ]
     },
     "execution_count": 7,
     "metadata": {},
     "output_type": "execute_result"
    },
    {
     "data": {
      "image/png": "[encoded data removed]",
      "text/plain": [
       "<Figure size 432x288 with 1 Axes>"
      ]
     },
     "metadata": {
      "needs_background": "light"
     },
     "output_type": "display_data"
    }
   ],
   "source": [
    "plt.xlim([0, 500])\n",
    "plt.ylim([0, 500])\n",
    "plt.scatter(woo['x'], woo['y'])"
   ]
  },
  {
   "cell_type": "code",
   "execution_count": 5,
   "metadata": {},
   "outputs": [],
   "source": [
    "# Define function to subset a data frame\n",
    "def subset(df, cols = ['XY Pitch Location', '5. Game Pitch Result']):\n",
    "    df2 = pd.DataFrame()\n",
    "    for name in cols:\n",
    "        if(name == 'XY Pitch Location'):\n",
    "            x = list()\n",
    "            y = list()\n",
    "            for pair in df[name]:\n",
    "                vals = pair.split(';')\n",
    "                x.append(int(vals[0]))\n",
    "                y.append(int(vals[1]))\n",
    "            df2['x'] = x\n",
    "            df2['y'] = y\n",
    "        else:\n",
    "            df2[name] = df[name]\n",
    "    return(df2)"
   ]
  },
  {
   "cell_type": "code",
   "execution_count": 27,
   "metadata": {},
   "outputs": [],
   "source": [
    "# Scratch Work"
   ]
  },
  {
   "cell_type": "code",
   "execution_count": 30,
   "metadata": {},
   "outputs": [
    {
     "data": {
      "text/plain": [
       "<head><link href=\"https://s3.amazonaws.com/assets.sidearmsports.com/adaptive/css/normalize.min.css\" rel=\"stylesheet\"/><link href=\"/less/sidearm-responsive-grid.less?_=636994695696128578\" rel=\"stylesheet\"/><link href=\"/images/logos/site/site.png\" rel=\"apple-touch-icon\"/><meta charset=\"utf-8\"/><meta content=\"width=device-width\" name=\"viewport\"/><link href=\"/images/logos/site/site.png\" rel=\"apple-touch-icon\"/>\n",
       "<meta content=\"#013ca6\" name=\"theme-color\"/>\n",
       "<link href=\"https://fonts.sidearmsports.com/sidearm/sidearm_font.css\" rel=\"stylesheet\"/>\n",
       "<link href=\"https://cdnjs.cloudflare.com/ajax/libs/slick-carousel/1.5.9/slick.min.css\" rel=\"stylesheet\"/>\n",
       "<link href=\"https://fonts.sidearmsports.com/sidearm_v2/sidearm_font_v2.css\" rel=\"stylesheet\"/>\n",
       "<link href=\"https://fonts.googleapis.com/css?family=Roboto+Condensed:400,400i,700\" rel=\"stylesheet\"/>\n",
       "<link href=\"/site/site.less?_=637050180859044802 \" rel=\"stylesheet\" type=\"text/css\"/>\n",
       "<link href=\"/less/responsive/calendar.less\" rel=\"stylesheet\"/>\n",
       "<link href=\"//cdnjs.cloudflare.com/ajax/libs/pikaday/1.4.0/css/pikaday.min.css\" rel=\"stylesheet\"/>\n",
       "<meta content=\"Composite Schedule\" name=\"og:title\"/><meta content=\"The official composite schedule for Atlantic Coast Conference\" name=\"description\"/><meta content=\"The official composite schedule for Atlantic Coast Conference\" name=\"og:description\"/><meta content=\"http://theacc.com/images/logos/site/site.png\" name=\"og:image\"/><meta content=\"Atlantic Coast Conference Logo\" name=\"og:image:alt\"/><meta content=\"calendar\" name=\"og:type\"/><meta content=\"summary\" name=\"twitter:card\"/><script src=\"//cdnjs.cloudflare.com/ajax/libs/jquery/1.9.1/jquery.min.js\"></script><script>var require = {\"config\":{\"options\":{\"sport_id\":0,\"school_id\":0,\"all_ads\":[]}}};window.s3_bucket_path = 'https://s3.amazonaws.com/sidearm.sites/acc.sidearmsports.com';window.urlArgs = '0';</script><meta content=\"http://theacc.com/calendar.aspx\" name=\"og:url\"/><script>window.client_hostname = \"theacc.com\";window.client_division = \"\";window.targetting_criteria = {\"page_template\":\"schedule-calendar\",\"sport_name\":\"0\",\"sport_name_custom\":\"0\",\"school_name\":\"0\",\"site\":\"acc\",\"cbs_site_code\":\"acc\",\"content_id\":null,\"sect\":\"ot\"};window.client_shortname = \"acc\";window.dfp_network_code = \"63316753\";window.img_dfp_unit_name = \"\";window.cbs_ads_activated = false;</script><!-- Facebook Pixel Code -->\n",
       "<script>\n",
       "!function(f,b,e,v,n,t,s)\n",
       "{if(f.fbq)return;n=f.fbq=function(){n.callMethod?\n",
       "n.callMethod.apply(n,arguments):n.queue.push(arguments)};\n",
       "if(!f._fbq)f._fbq=n;n.push=n;n.loaded=!0;n.version='2.0';\n",
       "n.queue=[];t=b.createElement(e);t.async=!0;\n",
       "t.src=v;s=b.getElementsByTagName(e)[0];\n",
       "s.parentNode.insertBefore(t,s)}(window,document,'script',\n",
       "'https://connect.facebook.net/en_US/fbevents.js');\n",
       "fbq('init', '116042852429841'); \n",
       "fbq('track', 'PageView');\n",
       "</script>\n",
       "<noscript>\n",
       "<img height=\"1\" src=\"https://www.facebook.com/tr?id=116042852429841&amp;ev=PageView\n",
       "&amp;noscript=1\" width=\"1\"/>\n",
       "</noscript>\n",
       "<!-- End Facebook Pixel Code --><script src=\"//cdn.blueconic.net/raycomsprts.js\"></script><script>\n",
       "$(document).ready(function() {\n",
       "\t// hide sticky footer ad on specific pages\n",
       "\tvar curLocation = window.location.pathname;\n",
       "\tif(curLocation.search(/game\\/football/) != '-1') {\n",
       "\t\t$('.stickyLeaderboard').css('display', 'none');\n",
       "\t}\n",
       "});\n",
       "</script><!--\n",
       "Start of Floodlight Tag: Please do not remove\n",
       "Activity name of this tag: ACC Football Championship - event page\n",
       "URL of the webpage where the tag is expected to be placed: http://theacc.com/index.aspx\n",
       "This tag must be placed between the <body> and </body> tags, as close as possible to the opening tag.\n",
       "Creation Date: 10/03/2019\n",
       "-->\n",
       "<script type=\"text/javascript\">\n",
       "var axel = Math.random() + \"\";\n",
       "var a = axel * 10000000000000;\n",
       "document.write('<iframe src=\"https://6037123.fls.doubleclick.net/activityi;src=6037123;type=sportrtg;cat=accfo0;dc_lat=;dc_rdid=;tag_for_child_directed_treatment=;tfua=;npa=;ord=' + a + '?\" width=\"1\" height=\"1\" frameborder=\"0\" style=\"display:none\"></iframe>');\n",
       "</script>\n",
       "<noscript>\n",
       "<iframe frameborder=\"0\" height=\"1\" src=\"https://6037123.fls.doubleclick.net/activityi;src=6037123;type=sportrtg;cat=accfo0;dc_lat=;dc_rdid=;tag_for_child_directed_treatment=;tfua=;npa=;ord=1?\" style=\"display:none\" width=\"1\"></iframe>\n",
       "</noscript>\n",
       "<!-- End of Floodlight Tag: Please do not remove --><!-- Begin comScore Tag -->\n",
       "<script>\n",
       "    var _comscore = _comscore || [];\n",
       "    _comscore.push({ c1: \"2\", c2: \"3005086\" });\n",
       "    (function() {\n",
       "      var s = document.createElement(\"script\"), el = document.getElementsByTagName(\"script\")[0]; s.async = true;\n",
       "      s.src = (document.location.protocol == \"https:\" ? \"https://sb\" : \"http://b\") + \".scorecardresearch.com/beacon.js\";\n",
       "      el.parentNode.insertBefore(s, el);\n",
       "    })();\n",
       "  </script>\n",
       "<noscript>\n",
       "<img alt=\"\" src=\"https://sb.scorecardresearch.com/p?c1=2&amp;c2=3005086&amp;cv=2.0&amp;cj=1\"/>\n",
       "</noscript>\n",
       "<!-- End comScore Tag --><title>\n",
       "\tComposite Schedule - Atlantic Coast Conference\n",
       "</title></head>"
      ]
     },
     "execution_count": 30,
     "metadata": {},
     "output_type": "execute_result"
    }
   ],
   "source": [
    "\n",
    "session = HTMLSession()\n",
    "\n",
    "r = session.get('http://theacc.com/calendar.aspx')\n",
    "soup = BeautifulSoup(r.text, 'lxml')\n",
    "soup.head"
   ]
  },
  {
   "cell_type": "code",
   "execution_count": null,
   "metadata": {},
   "outputs": [],
   "source": []
  },
  {
   "cell_type": "code",
   "execution_count": null,
   "metadata": {},
   "outputs": [],
   "source": []
  }
 ],
 "metadata": {
  "kernelspec": {
   "display_name": "Python 3",
   "language": "python",
   "name": "python3"
  },
  "language_info": {
   "codemirror_mode": {
    "name": "ipython",
    "version": 3
   },
   "file_extension": ".py",
   "mimetype": "text/x-python",
   "name": "python",
   "nbconvert_exporter": "python",
   "pygments_lexer": "ipython3",
   "version": "3.7.3"
  }
 },
 "nbformat": 4,
 "nbformat_minor": 2
}
