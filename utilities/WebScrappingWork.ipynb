{
 "cells": [
  {
   "cell_type": "code",
   "execution_count": 76,
   "metadata": {},
   "outputs": [],
   "source": [
    "# Import Required Packages\n",
    "import lxml\n",
    "from requests_html import HTMLSession\n",
    "from bs4 import BeautifulSoup\n",
    "import urllib\n",
    "import urllib.request as urllib2\n",
    "import os"
   ]
  },
  {
   "cell_type": "code",
   "execution_count": 77,
   "metadata": {},
   "outputs": [
    {
     "data": {
      "text/plain": [
       "'https://pittsburghpanthers.com'"
      ]
     },
     "execution_count": 77,
     "metadata": {},
     "output_type": "execute_result"
    }
   ],
   "source": [
    "# Get URL\n",
    "url = 'https://pittsburghpanthers.com/roster.aspx?path=softball'\n",
    "# url = 'https://hokiesports.com/roster.aspx?roster=279&path=softball'\n",
    "# establish a session to request website\n",
    "session = HTMLSession()\n",
    "r = session.get(url)\n",
    "urlSplit = url.split('/')\n",
    "# Create string to represent the base url\n",
    "baseUrl = urlSplit[0] + '/' + urlSplit[1] + '/' + urlSplit[2]\n",
    "baseUrl"
   ]
  },
  {
   "cell_type": "code",
   "execution_count": 78,
   "metadata": {},
   "outputs": [
    {
     "data": {
      "text/plain": [
       "<Response [200]>"
      ]
     },
     "execution_count": 78,
     "metadata": {},
     "output_type": "execute_result"
    }
   ],
   "source": [
    "# Check if we get a response\n",
    "r"
   ]
  },
  {
   "cell_type": "code",
   "execution_count": 79,
   "metadata": {},
   "outputs": [],
   "source": [
    "# Make the soup\n",
    "soup = BeautifulSoup(r.text, 'html.parser')"
   ]
  },
  {
   "cell_type": "code",
   "execution_count": 80,
   "metadata": {},
   "outputs": [
    {
     "data": {
      "text/plain": [
       "['Connor McGaffic',\n",
       " 'Jada Crittendon',\n",
       " 'Hannah  Bach',\n",
       " 'Makenzie Stiles',\n",
       " 'Hunter Levesque',\n",
       " 'Hope Alley',\n",
       " 'Kaitlyn Kruger',\n",
       " 'Kayla Lane',\n",
       " 'Chandler Walter',\n",
       " 'LoLo Sanchez',\n",
       " 'Taegen Lewellen',\n",
       " 'Brie Horrell',\n",
       " 'Walker Barbee',\n",
       " 'Sarah  Seamans',\n",
       " 'Abby  Edwards ',\n",
       " 'Morgan Batesole',\n",
       " 'Katlyn Pavlick',\n",
       " 'Brittany Knight',\n",
       " 'Alexee Haynes',\n",
       " 'Becca Miller']"
      ]
     },
     "execution_count": 80,
     "metadata": {},
     "output_type": "execute_result"
    }
   ],
   "source": [
    "# Create a list of the players on the roster.\n",
    "players = list()\n",
    "for item in soup.findAll('td', {\"class\": \"sidearm-table-player-name\"}):\n",
    "    players.append(item.text)\n",
    "players"
   ]
  },
  {
   "cell_type": "code",
   "execution_count": 81,
   "metadata": {},
   "outputs": [
    {
     "data": {
      "text/plain": [
       "['https://pittsburghpanthers.com/roster.aspx?rp_id=10506',\n",
       " 'https://pittsburghpanthers.com/roster.aspx?rp_id=10574',\n",
       " 'https://pittsburghpanthers.com/roster.aspx?rp_id=10497',\n",
       " 'https://pittsburghpanthers.com/roster.aspx?rp_id=10511',\n",
       " 'https://pittsburghpanthers.com/roster.aspx?rp_id=10505',\n",
       " 'https://pittsburghpanthers.com/roster.aspx?rp_id=10510',\n",
       " 'https://pittsburghpanthers.com/roster.aspx?rp_id=10504',\n",
       " 'https://pittsburghpanthers.com/roster.aspx?rp_id=10512',\n",
       " 'https://pittsburghpanthers.com/roster.aspx?rp_id=10509',\n",
       " 'https://pittsburghpanthers.com/roster.aspx?rp_id=10572',\n",
       " 'https://pittsburghpanthers.com/roster.aspx?rp_id=10513',\n",
       " 'https://pittsburghpanthers.com/roster.aspx?rp_id=10502',\n",
       " 'https://pittsburghpanthers.com/roster.aspx?rp_id=10498',\n",
       " 'https://pittsburghpanthers.com/roster.aspx?rp_id=10508',\n",
       " 'https://pittsburghpanthers.com/roster.aspx?rp_id=10500',\n",
       " 'https://pittsburghpanthers.com/roster.aspx?rp_id=10499',\n",
       " 'https://pittsburghpanthers.com/roster.aspx?rp_id=10507',\n",
       " 'https://pittsburghpanthers.com/roster.aspx?rp_id=10503',\n",
       " 'https://pittsburghpanthers.com/roster.aspx?rp_id=10501',\n",
       " 'https://pittsburghpanthers.com/roster.aspx?rp_id=10514']"
      ]
     },
     "execution_count": 81,
     "metadata": {},
     "output_type": "execute_result"
    }
   ],
   "source": [
    "# create a list of links to player pages\n",
    "playerAnchor = list()\n",
    "anchors = soup.select('td.sidearm-table-player-name a', href = True)\n",
    "for a in anchors:\n",
    "    playerAnchor.append('https://pittsburghpanthers.com'+ a['href'])\n",
    "playerAnchor"
   ]
  },
  {
   "cell_type": "code",
   "execution_count": 91,
   "metadata": {},
   "outputs": [
    {
     "name": "stdout",
     "output_type": "stream",
     "text": [
      "Hannah  Bach\n"
     ]
    }
   ],
   "source": [
    "r = session.get('https://pittsburghpanthers.com/roster.aspx?rp_id=10497')\n",
    "print(players[2])\n",
    "soup = BeautifulSoup(r.text, 'html.parser')\n",
    "player = soup.find('img', {\"alt\": players[2]})"
   ]
  },
  {
   "cell_type": "code",
   "execution_count": 93,
   "metadata": {},
   "outputs": [
    {
     "data": {
      "text/plain": [
       "['https://pittsburghpanthers.com/roster.aspx?rp_id=10506',\n",
       " 'https://pittsburghpanthers.com/roster.aspx?rp_id=10574',\n",
       " 'https://pittsburghpanthers.com/roster.aspx?rp_id=10497',\n",
       " 'https://pittsburghpanthers.com/roster.aspx?rp_id=10511',\n",
       " 'https://pittsburghpanthers.com/roster.aspx?rp_id=10505',\n",
       " 'https://pittsburghpanthers.com/roster.aspx?rp_id=10510',\n",
       " 'https://pittsburghpanthers.com/roster.aspx?rp_id=10504',\n",
       " 'https://pittsburghpanthers.com/roster.aspx?rp_id=10512',\n",
       " 'https://pittsburghpanthers.com/roster.aspx?rp_id=10509',\n",
       " 'https://pittsburghpanthers.com/roster.aspx?rp_id=10572',\n",
       " 'https://pittsburghpanthers.com/roster.aspx?rp_id=10513',\n",
       " 'https://pittsburghpanthers.com/roster.aspx?rp_id=10502',\n",
       " 'https://pittsburghpanthers.com/roster.aspx?rp_id=10498',\n",
       " 'https://pittsburghpanthers.com/roster.aspx?rp_id=10508',\n",
       " 'https://pittsburghpanthers.com/roster.aspx?rp_id=10500',\n",
       " 'https://pittsburghpanthers.com/roster.aspx?rp_id=10499',\n",
       " 'https://pittsburghpanthers.com/roster.aspx?rp_id=10507',\n",
       " 'https://pittsburghpanthers.com/roster.aspx?rp_id=10503',\n",
       " 'https://pittsburghpanthers.com/roster.aspx?rp_id=10501',\n",
       " 'https://pittsburghpanthers.com/roster.aspx?rp_id=10514']"
      ]
     },
     "execution_count": 93,
     "metadata": {},
     "output_type": "execute_result"
    }
   ],
   "source": [
    "playerAnchor"
   ]
  },
  {
   "cell_type": "code",
   "execution_count": 95,
   "metadata": {},
   "outputs": [
    {
     "name": "stdout",
     "output_type": "stream",
     "text": [
      "<img alt=\"Connor McGaffic\" src=\"/images/2019/10/15/1_McGaffic.jpg?width=300\"/>\n",
      "<img alt=\"Jada Crittendon\" src=\"/images/2019/10/15/2_Crittendon.jpg?width=300\"/>\n",
      "None\n"
     ]
    },
    {
     "ename": "TypeError",
     "evalue": "'NoneType' object is not subscriptable",
     "output_type": "error",
     "traceback": [
      "\u001b[0;31m---------------------------------------------------------------------------\u001b[0m",
      "\u001b[0;31mTypeError\u001b[0m                                 Traceback (most recent call last)",
      "\u001b[0;32m<ipython-input-95-0e03a1454ce7>\u001b[0m in \u001b[0;36m<module>\u001b[0;34m\u001b[0m\n\u001b[1;32m      4\u001b[0m     \u001b[0mplayer\u001b[0m \u001b[0;34m=\u001b[0m \u001b[0msoup\u001b[0m\u001b[0;34m.\u001b[0m\u001b[0mfind\u001b[0m\u001b[0;34m(\u001b[0m\u001b[0;34m'img'\u001b[0m\u001b[0;34m,\u001b[0m \u001b[0;34m{\u001b[0m\u001b[0;34m'alt'\u001b[0m\u001b[0;34m:\u001b[0m \u001b[0mplayers\u001b[0m\u001b[0;34m[\u001b[0m\u001b[0midx\u001b[0m\u001b[0;34m]\u001b[0m\u001b[0;34m}\u001b[0m\u001b[0;34m)\u001b[0m\u001b[0;34m\u001b[0m\u001b[0;34m\u001b[0m\u001b[0m\n\u001b[1;32m      5\u001b[0m     \u001b[0mprint\u001b[0m\u001b[0;34m(\u001b[0m\u001b[0mplayer\u001b[0m\u001b[0;34m)\u001b[0m\u001b[0;34m\u001b[0m\u001b[0;34m\u001b[0m\u001b[0m\n\u001b[0;32m----> 6\u001b[0;31m     \u001b[0mimgurl\u001b[0m \u001b[0;34m=\u001b[0m \u001b[0mbaseUrl\u001b[0m \u001b[0;34m+\u001b[0m \u001b[0mplayer\u001b[0m\u001b[0;34m[\u001b[0m\u001b[0;34m'src'\u001b[0m\u001b[0;34m]\u001b[0m\u001b[0;34m.\u001b[0m\u001b[0msplit\u001b[0m\u001b[0;34m(\u001b[0m\u001b[0;34m'?'\u001b[0m\u001b[0;34m)\u001b[0m\u001b[0;34m[\u001b[0m\u001b[0;36m0\u001b[0m\u001b[0;34m]\u001b[0m\u001b[0;34m\u001b[0m\u001b[0;34m\u001b[0m\u001b[0m\n\u001b[0m\u001b[1;32m      7\u001b[0m     \u001b[0murllib2\u001b[0m\u001b[0;34m.\u001b[0m\u001b[0murlretrieve\u001b[0m\u001b[0;34m(\u001b[0m\u001b[0mimgurl\u001b[0m\u001b[0;34m,\u001b[0m \u001b[0mos\u001b[0m\u001b[0;34m.\u001b[0m\u001b[0mpath\u001b[0m\u001b[0;34m.\u001b[0m\u001b[0mbasename\u001b[0m\u001b[0;34m(\u001b[0m\u001b[0mimgurl\u001b[0m\u001b[0;34m)\u001b[0m\u001b[0;34m)\u001b[0m\u001b[0;34m\u001b[0m\u001b[0;34m\u001b[0m\u001b[0m\n",
      "\u001b[0;31mTypeError\u001b[0m: 'NoneType' object is not subscriptable"
     ]
    }
   ],
   "source": [
    "for idx, playerLink in enumerate(playerAnchor):\n",
    "    r = session.get(playerLink)\n",
    "    soup = BeautifulSoup(r.text, 'html.parser')\n",
    "    player = soup.find('img', {'alt': players[idx]})\n",
    "    print(player)\n",
    "    imgurl = baseUrl + player['src'].split('?')[0]\n",
    "    urllib2.urlretrieve(imgurl, os.path.basename(imgurl))"
   ]
  },
  {
   "cell_type": "code",
   "execution_count": 63,
   "metadata": {},
   "outputs": [
    {
     "data": {
      "text/plain": [
       "'/images/2019/10/15/1_McGaffic.jpg'"
      ]
     },
     "execution_count": 63,
     "metadata": {},
     "output_type": "execute_result"
    }
   ],
   "source": [
    "url = 'https://pittsburghpanthers.com/roster.aspx?rp_id=9759'\n",
    "r = session.get(url)\n",
    "soup = BeautifulSoup(r.text, 'html.parser')\n",
    "test = soup.find('img', {'alt':'Connor McGaffic'})\n",
    "test['src'].split('?')[0]"
   ]
  }
 ],
 "metadata": {
  "kernelspec": {
   "display_name": "Python 3",
   "language": "python",
   "name": "python3"
  },
  "language_info": {
   "codemirror_mode": {
    "name": "ipython",
    "version": 3
   },
   "file_extension": ".py",
   "mimetype": "text/x-python",
   "name": "python",
   "nbconvert_exporter": "python",
   "pygments_lexer": "ipython3",
   "version": "3.7.3"
  }
 },
 "nbformat": 4,
 "nbformat_minor": 2
}
