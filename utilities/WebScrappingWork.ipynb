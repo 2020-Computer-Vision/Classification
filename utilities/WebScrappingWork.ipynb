{
 "cells": [
  {
   "cell_type": "code",
   "execution_count": 25,
   "metadata": {},
   "outputs": [],
   "source": [
    "# Import Required Packages\n",
    "import lxml\n",
    "from requests_html import HTMLSession\n",
    "from bs4 import BeautifulSoup\n",
    "import urllib\n",
    "import urllib.request as urllib2\n",
    "import os\n",
    "import requests\n"
   ]
  },
  {
   "cell_type": "code",
   "execution_count": 26,
   "metadata": {},
   "outputs": [
    {
     "data": {
      "text/plain": [
       "'https://pittsburghpanthers.com'"
      ]
     },
     "execution_count": 26,
     "metadata": {},
     "output_type": "execute_result"
    }
   ],
   "source": [
    "# Get URL\n",
    "url = 'https://pittsburghpanthers.com/roster.aspx?path=softball'\n",
    "# url = 'https://hokiesports.com/roster.aspx?roster=279&path=softball'\n",
    "url = 'https://pittsburghpanthers.com/roster.aspx?roster=1208&path=softball'\n",
    "# establish a session to request website\n",
    "user_agent = {'User-agent': 'Mozilla/5.0'}\n",
    "urlSplit = url.split('/')\n",
    "# Create string to represent the base url\n",
    "baseUrl = urlSplit[0] + '/' + urlSplit[1] + '/' + urlSplit[2]\n",
    "baseUrl"
   ]
  },
  {
   "cell_type": "code",
   "execution_count": 28,
   "metadata": {},
   "outputs": [
    {
     "data": {
      "text/plain": [
       "<Response [200]>"
      ]
     },
     "execution_count": 28,
     "metadata": {},
     "output_type": "execute_result"
    }
   ],
   "source": [
    "# Check if we get a response\n",
    "r = requests.get(url, headers = user_agent)"
   ]
  },
  {
   "cell_type": "code",
   "execution_count": 29,
   "metadata": {},
   "outputs": [],
   "source": [
    "# Make the soup\n",
    "soup = BeautifulSoup(r.text, 'html.parser')"
   ]
  },
  {
   "cell_type": "code",
   "execution_count": 30,
   "metadata": {},
   "outputs": [
    {
     "data": {
      "text/plain": [
       "['Connor McGaffic',\n",
       " 'Hannah  Bach',\n",
       " 'Sarah Dawson',\n",
       " 'Hunter Levesque',\n",
       " 'Taylor Myers',\n",
       " 'Kaitlyn Kruger',\n",
       " 'Olivia Gray',\n",
       " 'Taylor Rahach',\n",
       " 'Marissa DeMatteo',\n",
       " 'Chandler Walter',\n",
       " 'Brie Horrell',\n",
       " 'Nava Susi',\n",
       " 'Walker Barbee',\n",
       " 'Sarah  Seamans',\n",
       " 'Jess Eldridge',\n",
       " 'Alexis Solak',\n",
       " 'Abby  Edwards ',\n",
       " 'Morgan Batesole',\n",
       " 'Katlyn Pavlick',\n",
       " 'Brittany Knight',\n",
       " 'Alexee Haynes',\n",
       " 'Gabrielle Fredericks']"
      ]
     },
     "execution_count": 30,
     "metadata": {},
     "output_type": "execute_result"
    }
   ],
   "source": [
    "# Create a list of the players on the roster.\n",
    "players = list()\n",
    "for item in soup.findAll('td', {\"class\": \"sidearm-table-player-name\"}):\n",
    "    players.append(item.text)\n",
    "players"
   ]
  },
  {
   "cell_type": "code",
   "execution_count": 31,
   "metadata": {},
   "outputs": [
    {
     "data": {
      "text/plain": [
       "['https://pittsburghpanthers.com/roster.aspx?rp_id=9759',\n",
       " 'https://pittsburghpanthers.com/roster.aspx?rp_id=10102',\n",
       " 'https://pittsburghpanthers.com/roster.aspx?rp_id=9750',\n",
       " 'https://pittsburghpanthers.com/roster.aspx?rp_id=9758',\n",
       " 'https://pittsburghpanthers.com/roster.aspx?rp_id=9760',\n",
       " 'https://pittsburghpanthers.com/roster.aspx?rp_id=9757',\n",
       " 'https://pittsburghpanthers.com/roster.aspx?rp_id=9753',\n",
       " 'https://pittsburghpanthers.com/roster.aspx?rp_id=9761',\n",
       " 'https://pittsburghpanthers.com/roster.aspx?rp_id=9751',\n",
       " 'https://pittsburghpanthers.com/roster.aspx?rp_id=10156',\n",
       " 'https://pittsburghpanthers.com/roster.aspx?rp_id=9755',\n",
       " 'https://pittsburghpanthers.com/roster.aspx?rp_id=10111',\n",
       " 'https://pittsburghpanthers.com/roster.aspx?rp_id=10155',\n",
       " 'https://pittsburghpanthers.com/roster.aspx?rp_id=10103',\n",
       " 'https://pittsburghpanthers.com/roster.aspx?rp_id=10293',\n",
       " 'https://pittsburghpanthers.com/roster.aspx?rp_id=9762',\n",
       " 'https://pittsburghpanthers.com/roster.aspx?rp_id=10105',\n",
       " 'https://pittsburghpanthers.com/roster.aspx?rp_id=9749',\n",
       " 'https://pittsburghpanthers.com/roster.aspx?rp_id=10104',\n",
       " 'https://pittsburghpanthers.com/roster.aspx?rp_id=9756',\n",
       " 'https://pittsburghpanthers.com/roster.aspx?rp_id=9754',\n",
       " 'https://pittsburghpanthers.com/roster.aspx?rp_id=9752']"
      ]
     },
     "execution_count": 31,
     "metadata": {},
     "output_type": "execute_result"
    }
   ],
   "source": [
    "# create a list of links to player pages\n",
    "playerAnchor = list()\n",
    "anchors = soup.select('td.sidearm-table-player-name a', href = True)\n",
    "for a in anchors:\n",
    "    playerAnchor.append('https://pittsburghpanthers.com'+ a['href'])\n",
    "playerAnchor"
   ]
  },
  {
   "cell_type": "code",
   "execution_count": 7,
   "metadata": {},
   "outputs": [
    {
     "name": "stdout",
     "output_type": "stream",
     "text": [
      "Hannah  Bach\n"
     ]
    }
   ],
   "source": [
    "r = session.get('https://pittsburghpanthers.com/roster.aspx?rp_id=10497')\n",
    "print(players[2])\n",
    "soup = BeautifulSoup(r.text, 'html.parser')\n",
    "player = soup.find('img', {\"alt\": players[2]})"
   ]
  },
  {
   "cell_type": "code",
   "execution_count": 32,
   "metadata": {},
   "outputs": [
    {
     "data": {
      "text/plain": [
       "['https://pittsburghpanthers.com/roster.aspx?rp_id=9759',\n",
       " 'https://pittsburghpanthers.com/roster.aspx?rp_id=10102',\n",
       " 'https://pittsburghpanthers.com/roster.aspx?rp_id=9750',\n",
       " 'https://pittsburghpanthers.com/roster.aspx?rp_id=9758',\n",
       " 'https://pittsburghpanthers.com/roster.aspx?rp_id=9760',\n",
       " 'https://pittsburghpanthers.com/roster.aspx?rp_id=9757',\n",
       " 'https://pittsburghpanthers.com/roster.aspx?rp_id=9753',\n",
       " 'https://pittsburghpanthers.com/roster.aspx?rp_id=9761',\n",
       " 'https://pittsburghpanthers.com/roster.aspx?rp_id=9751',\n",
       " 'https://pittsburghpanthers.com/roster.aspx?rp_id=10156',\n",
       " 'https://pittsburghpanthers.com/roster.aspx?rp_id=9755',\n",
       " 'https://pittsburghpanthers.com/roster.aspx?rp_id=10111',\n",
       " 'https://pittsburghpanthers.com/roster.aspx?rp_id=10155',\n",
       " 'https://pittsburghpanthers.com/roster.aspx?rp_id=10103',\n",
       " 'https://pittsburghpanthers.com/roster.aspx?rp_id=10293',\n",
       " 'https://pittsburghpanthers.com/roster.aspx?rp_id=9762',\n",
       " 'https://pittsburghpanthers.com/roster.aspx?rp_id=10105',\n",
       " 'https://pittsburghpanthers.com/roster.aspx?rp_id=9749',\n",
       " 'https://pittsburghpanthers.com/roster.aspx?rp_id=10104',\n",
       " 'https://pittsburghpanthers.com/roster.aspx?rp_id=9756',\n",
       " 'https://pittsburghpanthers.com/roster.aspx?rp_id=9754',\n",
       " 'https://pittsburghpanthers.com/roster.aspx?rp_id=9752']"
      ]
     },
     "execution_count": 32,
     "metadata": {},
     "output_type": "execute_result"
    }
   ],
   "source": [
    "playerAnchor"
   ]
  },
  {
   "cell_type": "code",
   "execution_count": null,
   "metadata": {},
   "outputs": [],
   "source": []
  },
  {
   "cell_type": "code",
   "execution_count": 37,
   "metadata": {},
   "outputs": [
    {
     "name": "stdout",
     "output_type": "stream",
     "text": [
      "<img alt=\"Connor McGaffic\" class=\"lazyload\" data-src=\"/images/2018/10/19/McGaffic_Connor.jpg?width=80\"/>\n",
      "<img alt=\"Hannah  Bach\" class=\"lazyload\" data-src=\"/images/2018/10/19/Bach_Hannah.jpg?width=80\"/>\n",
      "<img alt=\"Sarah Dawson\" class=\"lazyload\" data-src=\"/images/2018/10/19/Dawson_Sarah.jpg?width=80\"/>\n",
      "<img alt=\"Hunter Levesque\" class=\"lazyload\" data-src=\"/images/2018/10/19/Levesque_Hunter.jpg?width=80\"/>\n",
      "<img alt=\"Taylor Myers\" class=\"lazyload\" data-src=\"/images/2018/10/19/Myers_Taylor.jpg?width=80\"/>\n",
      "<img alt=\"Kaitlyn Kruger\" class=\"lazyload\" data-src=\"/images/2018/10/19/Kruger_Kaitlyn_.jpg?width=80\"/>\n",
      "<img alt=\"Olivia Gray\" class=\"lazyload\" data-src=\"/images/2018/10/19/Gray_Olivia.jpg?width=80\"/>\n",
      "<img alt=\"Taylor Rahach\" class=\"lazyload\" data-src=\"/images/2018/10/19/Rahach_Taylor.jpg?width=80\"/>\n",
      "<img alt=\"Marissa DeMatteo\" class=\"lazyload\" data-src=\"/images/2018/10/29/DeMatteo_Marissa.jpg?width=80\"/>\n",
      "<img alt=\"Chandler Walter\" class=\"lazyload\" data-src=\"/images/2019/1/23/Walter_Chandler.jpg?width=80\"/>\n",
      "<img alt=\"Brie Horrell\" class=\"lazyload\" data-src=\"/images/2018/10/19/Horrell_Brie.jpg?width=80\"/>\n",
      "<img alt=\"Nava Susi\" class=\"lazyload\" data-src=\"/images/2018/10/19/Susi_Nava.jpg?width=80\"/>\n",
      "<img alt=\"Walker Barbee\" class=\"lazyload\" data-src=\"/images/2019/1/23/Barbee_Walker.jpg?width=80\"/>\n",
      "<img alt=\"Sarah  Seamans\" class=\"lazyload\" data-src=\"/images/2018/10/19/Seamans_Sarah.jpg?width=80\"/>\n",
      "None\n",
      "<img alt=\"Alexis Solak\" class=\"lazyload\" data-src=\"/images/2018/10/19/Solak_Alexis.jpg?width=80\"/>\n",
      "<img alt=\"Abby  Edwards \" class=\"lazyload\" data-src=\"/images/2018/10/19/Edwards_Abby.jpg?width=80\"/>\n",
      "<img alt=\"Morgan Batesole\" class=\"lazyload\" data-src=\"/images/2018/10/19/Batesole_Morgan.jpg?width=80\"/>\n",
      "<img alt=\"Katlyn Pavlick\" class=\"lazyload\" data-src=\"/images/2018/10/19/Pavlick_Katlyn.jpg?width=80\"/>\n",
      "<img alt=\"Brittany Knight\" class=\"lazyload\" data-src=\"/images/2018/10/19/Knight_Brittany.jpg?width=80\"/>\n",
      "<img alt=\"Alexee Haynes\" class=\"lazyload\" data-src=\"/images/2018/10/19/Haynes_Alexee.jpg?width=80\"/>\n",
      "<img alt=\"Gabrielle Fredericks\" class=\"lazyload\" data-src=\"/images/2018/10/19/Fredericks_Gabrielle.jpg?width=80\"/>\n"
     ]
    }
   ],
   "source": [
    "import time\n",
    "for idx, playerLink in enumerate(playerAnchor):\n",
    "    r = requests.get(url, headers = user_agent)\n",
    "    soup = BeautifulSoup(r.text, 'html.parser')\n",
    "    player = soup.find('img', {'alt': players[idx]})\n",
    "    print(player)\n",
    "    if(player != None):\n",
    "        imgurl = baseUrl + player['data-src'].split('?')[0]\n",
    "        urllib2.urlretrieve(imgurl, os.path.basename(imgurl))\n",
    "    time.sleep(2)"
   ]
  },
  {
   "cell_type": "code",
   "execution_count": 63,
   "metadata": {},
   "outputs": [
    {
     "data": {
      "text/plain": [
       "'/images/2019/10/15/1_McGaffic.jpg'"
      ]
     },
     "execution_count": 63,
     "metadata": {},
     "output_type": "execute_result"
    }
   ],
   "source": [
    "url = 'https://pittsburghpanthers.com/roster.aspx?rp_id=9759'\n",
    "r = requests.get(url, headers = user_agent)\n",
    "soup = BeautifulSoup(r.text, 'html.parser')\n",
    "test = soup.find('img', {'alt':'Connor McGaffic'})\n",
    "test['src'].split('?')[0]"
   ]
  }
 ],
 "metadata": {
  "kernelspec": {
   "display_name": "Python 3",
   "language": "python",
   "name": "python3"
  },
  "language_info": {
   "codemirror_mode": {
    "name": "ipython",
    "version": 3
   },
   "file_extension": ".py",
   "mimetype": "text/x-python",
   "name": "python",
   "nbconvert_exporter": "python",
   "pygments_lexer": "ipython3",
   "version": "3.7.3"
  }
 },
 "nbformat": 4,
 "nbformat_minor": 2
}
