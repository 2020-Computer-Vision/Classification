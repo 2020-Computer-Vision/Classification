{
 "cells": [
  {
   "cell_type": "code",
   "execution_count": 1,
   "metadata": {},
   "outputs": [],
   "source": [
    "# Imports packages required.\n",
    "import pandas as pd\n",
    "import numpy as np\n",
    "import matplotlib.pyplot as plt\n",
    "import os\n",
    "from selenium import webdriver\n",
    "from bs4 import BeautifulSoup\n",
    "import lxml\n",
    "from requests_html import HTMLSession\n",
    "from datetime import datetime\n",
    "from dateutil.parser import parse"
   ]
  },
  {
   "cell_type": "code",
   "execution_count": 2,
   "metadata": {},
   "outputs": [],
   "source": [
    "# Import CSV values from umpire data and game data.\n",
    "dat = pd.read_csv('CSVData/Duke Game 1 1st Base Dugout.csv')\n",
    "Umps = pd.read_csv('CSVData/Umpires.csv')"
   ]
  },
  {
   "cell_type": "code",
   "execution_count": 3,
   "metadata": {},
   "outputs": [
    {
     "data": {
      "text/plain": [
       "[('Brad Tittrington', 2),\n",
       " ('Tim Kasate', 2),\n",
       " ('Ed Clark', 2),\n",
       " ('Alex Leap', 2),\n",
       " ('Bob Thomas', 2),\n",
       " ('Matt Leisure', 1),\n",
       " ('Eddie Hall', 1),\n",
       " ('Anthony Small', 1),\n",
       " ('Robbie Guest', 1),\n",
       " ('John Kerwin', 1),\n",
       " ('Chris Tehonica', 1),\n",
       " ('Donald Pernell', 1),\n",
       " ('Jim Cooper', 1),\n",
       " ('Ted Broyles', 1),\n",
       " ('Carlos Guzman', 1),\n",
       " ('Chris Nabors', 1),\n",
       " ('Mark Thompson', 1),\n",
       " ('Jon Chambers', 1),\n",
       " ('Brian Sonak', 1),\n",
       " ('Ruben Gould', 1),\n",
       " ('Joe Alfonse', 1),\n",
       " ('Jill Poole', 1),\n",
       " ('Matt Dunbar', 1),\n",
       " ('Liz Hammerschmidt', 1),\n",
       " ('Laura Nesteriak', 1),\n",
       " ('Jeff Blanken', 1),\n",
       " ('Aaron Jansen', 1)]"
      ]
     },
     "execution_count": 3,
     "metadata": {},
     "output_type": "execute_result"
    }
   ],
   "source": [
    "# Show the amount of games by umpire that we have data on.\n",
    "d = dict.fromkeys(set(Umps['Home Plate Umpire']), 0)\n",
    "for ump in Umps['Home Plate Umpire']:\n",
    "    d[ump] += 1\n",
    "sorted(d.items(), key=lambda x: x[1], reverse=True)"
   ]
  },
  {
   "cell_type": "code",
   "execution_count": 5,
   "metadata": {},
   "outputs": [
    {
     "data": {
      "text/plain": [
       "Index(['Name', 'Position', 'Duration', '1. Baserunning Situation', '1. Date',\n",
       "       '1. Pitchers Name', '1. Pitchers Side', '2. Hitters Name',\n",
       "       '2. Hitters Side', '3. Pitch Type', '4. Pitch Location',\n",
       "       '5. Catcher Throw Down', '5. Game Pitch Result', '6. Pitch Count',\n",
       "       '6. Previous Pitch Count', '8. Hit Location', '8. Hit Results',\n",
       "       '8. RBI', '9. Outs', 'Hitting Position', 'Period',\n",
       "       'Team 1. Pitchers Name', 'Team 2. Hitters Name', 'XY Hit Location',\n",
       "       'XY Pitch Location', 'Z-Game Details'],\n",
       "      dtype='object')"
      ]
     },
     "execution_count": 5,
     "metadata": {},
     "output_type": "execute_result"
    }
   ],
   "source": [
    "# Show names of columns in csv file.\n",
    "dat.columns"
   ]
  },
  {
   "cell_type": "code",
   "execution_count": 6,
   "metadata": {},
   "outputs": [],
   "source": [
    "# Define function to subset a data frame\n",
    "def subset(df, cols):\n",
    "    df2 = pd.DataFrame()\n",
    "    for name in cols:\n",
    "        df2[name] = df[name]\n",
    "    return(df2)"
   ]
  },
  {
   "cell_type": "code",
   "execution_count": 7,
   "metadata": {},
   "outputs": [],
   "source": [
    "woo = subset(dat, {'1. Date', 'XY Pitch Location'})"
   ]
  },
  {
   "cell_type": "code",
   "execution_count": 8,
   "metadata": {},
   "outputs": [
    {
     "data": {
      "text/html": [
       "<div>\n",
       "<style scoped>\n",
       "    .dataframe tbody tr th:only-of-type {\n",
       "        vertical-align: middle;\n",
       "    }\n",
       "\n",
       "    .dataframe tbody tr th {\n",
       "        vertical-align: top;\n",
       "    }\n",
       "\n",
       "    .dataframe thead th {\n",
       "        text-align: right;\n",
       "    }\n",
       "</style>\n",
       "<table border=\"1\" class=\"dataframe\">\n",
       "  <thead>\n",
       "    <tr style=\"text-align: right;\">\n",
       "      <th></th>\n",
       "      <th>1. Date</th>\n",
       "      <th>XY Pitch Location</th>\n",
       "    </tr>\n",
       "  </thead>\n",
       "  <tbody>\n",
       "    <tr>\n",
       "      <th>0</th>\n",
       "      <td>04-20-2018</td>\n",
       "      <td>367;250</td>\n",
       "    </tr>\n",
       "    <tr>\n",
       "      <th>1</th>\n",
       "      <td>04-20-2018</td>\n",
       "      <td>123;221</td>\n",
       "    </tr>\n",
       "    <tr>\n",
       "      <th>2</th>\n",
       "      <td>04-20-2018</td>\n",
       "      <td>363;267</td>\n",
       "    </tr>\n",
       "    <tr>\n",
       "      <th>3</th>\n",
       "      <td>04-20-2018</td>\n",
       "      <td>353;269</td>\n",
       "    </tr>\n",
       "    <tr>\n",
       "      <th>4</th>\n",
       "      <td>04-20-2018</td>\n",
       "      <td>146;268</td>\n",
       "    </tr>\n",
       "    <tr>\n",
       "      <th>...</th>\n",
       "      <td>...</td>\n",
       "      <td>...</td>\n",
       "    </tr>\n",
       "    <tr>\n",
       "      <th>148</th>\n",
       "      <td>04-20-2018</td>\n",
       "      <td>230;213</td>\n",
       "    </tr>\n",
       "    <tr>\n",
       "      <th>149</th>\n",
       "      <td>04-20-2018</td>\n",
       "      <td>291;258</td>\n",
       "    </tr>\n",
       "    <tr>\n",
       "      <th>150</th>\n",
       "      <td>04-20-2018</td>\n",
       "      <td>253;333</td>\n",
       "    </tr>\n",
       "    <tr>\n",
       "      <th>151</th>\n",
       "      <td>04-20-2018</td>\n",
       "      <td>117;1</td>\n",
       "    </tr>\n",
       "    <tr>\n",
       "      <th>152</th>\n",
       "      <td>04-20-2018</td>\n",
       "      <td>275;209</td>\n",
       "    </tr>\n",
       "  </tbody>\n",
       "</table>\n",
       "<p>153 rows × 2 columns</p>\n",
       "</div>"
      ],
      "text/plain": [
       "        1. Date XY Pitch Location\n",
       "0    04-20-2018           367;250\n",
       "1    04-20-2018           123;221\n",
       "2    04-20-2018           363;267\n",
       "3    04-20-2018           353;269\n",
       "4    04-20-2018           146;268\n",
       "..          ...               ...\n",
       "148  04-20-2018           230;213\n",
       "149  04-20-2018           291;258\n",
       "150  04-20-2018           253;333\n",
       "151  04-20-2018             117;1\n",
       "152  04-20-2018           275;209\n",
       "\n",
       "[153 rows x 2 columns]"
      ]
     },
     "execution_count": 8,
     "metadata": {},
     "output_type": "execute_result"
    }
   ],
   "source": [
    "woo"
   ]
  },
  {
   "cell_type": "code",
   "execution_count": null,
   "metadata": {},
   "outputs": [],
   "source": [
    "def parse"
   ]
  },
  {
   "cell_type": "code",
   "execution_count": null,
   "metadata": {},
   "outputs": [],
   "source": [
    "plt.xlim([0, 500])\n",
    "plt.ylim([500, 0])\n",
    "plt.scatter(woo['x'], woo['y'])"
   ]
  },
  {
   "cell_type": "code",
   "execution_count": 8,
   "metadata": {},
   "outputs": [],
   "source": [
    "# Scratch Work"
   ]
  },
  {
   "cell_type": "code",
   "execution_count": 38,
   "metadata": {},
   "outputs": [],
   "source": [
    "# Remake the dates into a datetime object.\n",
    "Umps['Date']\n",
    "for idx, date in enumerate(Umps['Date']):\n",
    "    Umps['Date'][idx] = datetime.strptime(date, '%m/%d/%Y')"
   ]
  },
  {
   "cell_type": "code",
   "execution_count": 41,
   "metadata": {},
   "outputs": [
    {
     "name": "stdout",
     "output_type": "stream",
     "text": [
      "Success !\n"
     ]
    }
   ],
   "source": [
    "for idx, date in enumerate(Umps['Date']):\n",
    "    if(date == value):\n",
    "        print('Success !')"
   ]
  },
  {
   "cell_type": "code",
   "execution_count": 40,
   "metadata": {},
   "outputs": [],
   "source": [
    "value = datetime.strptime(dat['1. Date'][0], '%m-%d-%Y')"
   ]
  },
  {
   "cell_type": "code",
   "execution_count": 37,
   "metadata": {},
   "outputs": [
    {
     "data": {
      "text/plain": [
       "0      4/28/2019\n",
       "1      4/27/2019\n",
       "2      4/26/2019\n",
       "3      4/13/2019\n",
       "4      4/13/2019\n",
       "5      4/12/2019\n",
       "6      4/10/2019\n",
       "7      4/10/2019\n",
       "8       4/7/2019\n",
       "9       4/6/2019\n",
       "10      4/6/2019\n",
       "11    03/31/2019\n",
       "12     3/30/2019\n",
       "13     3/29/2019\n",
       "14     4/21/2019\n",
       "15     3/27/2019\n",
       "16     3/24/2019\n",
       "17     3/23/2019\n",
       "18     3/23/2019\n",
       "19     3/17/2019\n",
       "20     3/16/2019\n",
       "21     3/15/2019\n",
       "22     3/10/2019\n",
       "23     3/10/2019\n",
       "24      3/9/2019\n",
       "25      3/3/2019\n",
       "26     4/22/2018\n",
       "27     4/21/2018\n",
       "28     4/20/2018\n",
       "29     4/11/2018\n",
       "30     3/31/2018\n",
       "31     3/31/2018\n",
       "Name: Date, dtype: object"
      ]
     },
     "execution_count": 37,
     "metadata": {},
     "output_type": "execute_result"
    }
   ],
   "source": [
    "Umps['Date']"
   ]
  }
 ],
 "metadata": {
  "kernelspec": {
   "display_name": "Python 3",
   "language": "python",
   "name": "python3"
  },
  "language_info": {
   "codemirror_mode": {
    "name": "ipython",
    "version": 3
   },
   "file_extension": ".py",
   "mimetype": "text/x-python",
   "name": "python",
   "nbconvert_exporter": "python",
   "pygments_lexer": "ipython3",
   "version": "3.6.8"
  }
 },
 "nbformat": 4,
 "nbformat_minor": 2
}
